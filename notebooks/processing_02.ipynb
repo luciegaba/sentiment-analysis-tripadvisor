{
  "cells": [
    {
      "cell_type": "markdown",
      "metadata": {
        "id": "S8SleKRtTDoJ"
      },
      "source": [
        "<h1 style=\"text-align: center;\">&nbsp;<img style=\"font-size: 0.9em;\" src=\"https://www.hospitalitynet.org/picture/153007157/travelers-push-tripadvisor-past-1-billion-reviews-opinions.jpg?t=1587981992\" alt=\"\" width=\"300\" height=\"100\" /><span style=\"font-family: tahoma, arial, helvetica, sans-serif; font-size: large;\"><span style=\"font-size: x-large;\"> Preprocessing des données avec PySpark</span></span><span style=\"font-family: tahoma, arial, helvetica, sans-serif; font-size: large;\">&nbsp; &nbsp; &nbsp;&nbsp;</span>&nbsp;<img src=\"https://i0.wp.com/mosefparis1.fr/wp-content/uploads/2022/10/cropped-image-1.png?fit=532%2C540&amp;ssl=1\" alt=\"\" width=\"150\" height=\"150\" />&nbsp;</h1>\n",
        "<p style=\"text-align: center;\">&nbsp; &nbsp; &nbsp; &nbsp; &nbsp;de Lucie Gabagnou et Yanis Rehoune</p>"
      ]
    },
    {
      "cell_type": "markdown",
      "metadata": {
        "id": "ptILyCEMT0ie"
      },
      "source": [
        "Dans ce second notebook, nous effectuons une pipeline de preprocessing des données: Les données brutes qui ont été extraites par Webscraping ne sont pas forcément dans le format attendu. Il faut ainsi nettoyer les données et extraire des features petinents.\n",
        "\n",
        "\n"
      ]
    },
    {
      "cell_type": "markdown",
      "metadata": {
        "id": "jYKefruS5iI9"
      },
      "source": [
        "# Processing avec PySpark\n",
        "Dans cette partie, nous réalisons le processing de nos données: on nettoie (le texte particulièrement) et éventuellement créer de nouveaux features à partir de la base brute récoltée. Ici, il faut s'assurer que les types soient les bons, que le texte soit exploitable pour le NLP, et que tous les features soient exploitables (typiquement l'adresse doit devenir un ensemble de coordonnées géographiques..).\n",
        "\n",
        "\n",
        "\n",
        "\n",
        " Dans notre cas, Pyspark s'avère pratique pour exécuter facilement des fonctions sur un nombre de lignes  important. \n",
        "A l'issue de cette étape, les données seront prêtes pour l'analyse exploratoire et le ML.\n",
        "Remarque: il n'y a pas d'étapes intermédiaires pour voir les données car on évite d'utiliser les fonctions .show() qui puisent dans la mémoire vive et sont longues.\n",
        "\n"
      ]
    },
    {
      "cell_type": "markdown",
      "metadata": {
        "id": "7Dj9e4kU7vmt"
      },
      "source": [
        "#### Installation de l'environnement"
      ]
    },
    {
      "cell_type": "code",
      "execution_count": 1,
      "metadata": {},
      "outputs": [
        {
          "data": {
            "text/plain": [
              "'/Users/luciegabagnou/opt/anaconda3/envs/scrap/lib/python3.9/site-packages/pyspark'"
            ]
          },
          "execution_count": 1,
          "metadata": {},
          "output_type": "execute_result"
        }
      ],
      "source": [
        "\n",
        "import findspark\n",
        "findspark.init()\n",
        "findspark.find()"
      ]
    },
    {
      "cell_type": "code",
      "execution_count": 2,
      "metadata": {
        "id": "o6Pshyzq73dX"
      },
      "outputs": [
        {
          "data": {
            "text/plain": [
              "'/Users/luciegabagnou/Documents/MOSEF/PYTHON/projet_trip_advisor/sentiment-analysis-tripadvisor/notebooks'"
            ]
          },
          "execution_count": 2,
          "metadata": {},
          "output_type": "execute_result"
        }
      ],
      "source": [
        "import os\n",
        "os.getcwd()"
      ]
    },
    {
      "cell_type": "code",
      "execution_count": 3,
      "metadata": {
        "id": "x0dR8WA078lG"
      },
      "outputs": [
        {
          "name": "stdout",
          "output_type": "stream",
          "text": [
            "/Users/luciegabagnou/Documents/MOSEF/PYTHON/projet_trip_advisor/sentiment-analysis-tripadvisor\n"
          ]
        }
      ],
      "source": [
        "current_path=os.path.dirname(os.getcwd())\n",
        "os.chdir(current_path)\n",
        "print(os.getcwd())"
      ]
    },
    {
      "cell_type": "code",
      "execution_count": 4,
      "metadata": {},
      "outputs": [
        {
          "data": {
            "text/plain": [
              "'/Users/luciegabagnou/Documents/MOSEF/PYTHON/projet_trip_advisor/sentiment-analysis-tripadvisor'"
            ]
          },
          "execution_count": 4,
          "metadata": {},
          "output_type": "execute_result"
        }
      ],
      "source": [
        "os.getcwd()"
      ]
    },
    {
      "cell_type": "markdown",
      "metadata": {
        "id": "sJNrwNHW1ATf"
      },
      "source": [
        "### Création d'un SparkDataFrame\n"
      ]
    },
    {
      "cell_type": "code",
      "execution_count": 5,
      "metadata": {
        "id": "6ykjaJ3t8MkF"
      },
      "outputs": [
        {
          "name": "stdout",
          "output_type": "stream",
          "text": [
            "Requirement already satisfied: selenium in /Users/luciegabagnou/opt/anaconda3/envs/scrap/lib/python3.9/site-packages (from -r requirements.txt (line 1)) (4.8.0)\n",
            "Requirement already satisfied: pyspark in /Users/luciegabagnou/opt/anaconda3/envs/scrap/lib/python3.9/site-packages (from -r requirements.txt (line 2)) (3.2.1)\n",
            "Requirement already satisfied: findspark in /Users/luciegabagnou/opt/anaconda3/envs/scrap/lib/python3.9/site-packages (from -r requirements.txt (line 3)) (2.0.1)\n",
            "Requirement already satisfied: requests in /Users/luciegabagnou/opt/anaconda3/envs/scrap/lib/python3.9/site-packages (from -r requirements.txt (line 4)) (2.28.2)\n",
            "Requirement already satisfied: mysqlclient in /Users/luciegabagnou/opt/anaconda3/envs/scrap/lib/python3.9/site-packages (from -r requirements.txt (line 5)) (2.1.1)\n",
            "Requirement already satisfied: unidecode in /Users/luciegabagnou/opt/anaconda3/envs/scrap/lib/python3.9/site-packages (from -r requirements.txt (line 6)) (1.3.6)\n",
            "Requirement already satisfied: scrapy in /Users/luciegabagnou/opt/anaconda3/envs/scrap/lib/python3.9/site-packages (from -r requirements.txt (line 7)) (2.7.1)\n",
            "Requirement already satisfied: bs4 in /Users/luciegabagnou/opt/anaconda3/envs/scrap/lib/python3.9/site-packages (from -r requirements.txt (line 8)) (0.0.1)\n",
            "Requirement already satisfied: undetected-chromedriver in /Users/luciegabagnou/opt/anaconda3/envs/scrap/lib/python3.9/site-packages (from -r requirements.txt (line 9)) (3.2.1)\n",
            "Requirement already satisfied: spacy in /Users/luciegabagnou/opt/anaconda3/envs/scrap/lib/python3.9/site-packages (from -r requirements.txt (line 10)) (3.5.0)\n",
            "Requirement already satisfied: matplotlib in /Users/luciegabagnou/opt/anaconda3/envs/scrap/lib/python3.9/site-packages (from -r requirements.txt (line 11)) (3.6.3)\n",
            "Requirement already satisfied: pandas in /Users/luciegabagnou/opt/anaconda3/envs/scrap/lib/python3.9/site-packages (from -r requirements.txt (line 12)) (1.5.2)\n",
            "Requirement already satisfied: python-dotenv in /Users/luciegabagnou/opt/anaconda3/envs/scrap/lib/python3.9/site-packages (from -r requirements.txt (line 13)) (0.21.1)\n",
            "Requirement already satisfied: plotly in /Users/luciegabagnou/opt/anaconda3/envs/scrap/lib/python3.9/site-packages (from -r requirements.txt (line 14)) (5.13.0)\n",
            "Requirement already satisfied: scikit-learn in /Users/luciegabagnou/opt/anaconda3/envs/scrap/lib/python3.9/site-packages (from -r requirements.txt (line 15)) (1.2.1)\n",
            "Requirement already satisfied: wordcloud in /Users/luciegabagnou/opt/anaconda3/envs/scrap/lib/python3.9/site-packages (from -r requirements.txt (line 16)) (1.8.2.2)\n",
            "Requirement already satisfied: textblob in /Users/luciegabagnou/opt/anaconda3/envs/scrap/lib/python3.9/site-packages (from -r requirements.txt (line 17)) (0.17.1)\n",
            "Requirement already satisfied: geopy in /Users/luciegabagnou/opt/anaconda3/envs/scrap/lib/python3.9/site-packages (from -r requirements.txt (line 18)) (2.3.0)\n",
            "Requirement already satisfied: trio~=0.17 in /Users/luciegabagnou/opt/anaconda3/envs/scrap/lib/python3.9/site-packages (from selenium->-r requirements.txt (line 1)) (0.22.0)\n",
            "Requirement already satisfied: trio-websocket~=0.9 in /Users/luciegabagnou/opt/anaconda3/envs/scrap/lib/python3.9/site-packages (from selenium->-r requirements.txt (line 1)) (0.9.2)\n",
            "Requirement already satisfied: certifi>=2021.10.8 in /Users/luciegabagnou/opt/anaconda3/envs/scrap/lib/python3.9/site-packages (from selenium->-r requirements.txt (line 1)) (2022.12.7)\n",
            "Requirement already satisfied: urllib3[socks]~=1.26 in /Users/luciegabagnou/opt/anaconda3/envs/scrap/lib/python3.9/site-packages (from selenium->-r requirements.txt (line 1)) (1.26.14)\n",
            "Requirement already satisfied: py4j==0.10.9.3 in /Users/luciegabagnou/opt/anaconda3/envs/scrap/lib/python3.9/site-packages (from pyspark->-r requirements.txt (line 2)) (0.10.9.3)\n",
            "Requirement already satisfied: charset-normalizer<4,>=2 in /Users/luciegabagnou/opt/anaconda3/envs/scrap/lib/python3.9/site-packages (from requests->-r requirements.txt (line 4)) (3.0.1)\n",
            "Requirement already satisfied: idna<4,>=2.5 in /Users/luciegabagnou/opt/anaconda3/envs/scrap/lib/python3.9/site-packages (from requests->-r requirements.txt (line 4)) (3.4)\n",
            "Requirement already satisfied: pyOpenSSL>=21.0.0 in /Users/luciegabagnou/opt/anaconda3/envs/scrap/lib/python3.9/site-packages (from scrapy->-r requirements.txt (line 7)) (23.0.0)\n",
            "Requirement already satisfied: Twisted>=18.9.0 in /Users/luciegabagnou/opt/anaconda3/envs/scrap/lib/python3.9/site-packages (from scrapy->-r requirements.txt (line 7)) (22.10.0)\n",
            "Requirement already satisfied: protego>=0.1.15 in /Users/luciegabagnou/opt/anaconda3/envs/scrap/lib/python3.9/site-packages (from scrapy->-r requirements.txt (line 7)) (0.2.1)\n",
            "Requirement already satisfied: parsel>=1.5.0 in /Users/luciegabagnou/opt/anaconda3/envs/scrap/lib/python3.9/site-packages (from scrapy->-r requirements.txt (line 7)) (1.7.0)\n",
            "Requirement already satisfied: cssselect>=0.9.1 in /Users/luciegabagnou/opt/anaconda3/envs/scrap/lib/python3.9/site-packages (from scrapy->-r requirements.txt (line 7)) (1.2.0)\n",
            "Requirement already satisfied: cryptography>=3.3 in /Users/luciegabagnou/opt/anaconda3/envs/scrap/lib/python3.9/site-packages (from scrapy->-r requirements.txt (line 7)) (39.0.0)\n",
            "Requirement already satisfied: setuptools in /Users/luciegabagnou/opt/anaconda3/envs/scrap/lib/python3.9/site-packages (from scrapy->-r requirements.txt (line 7)) (65.6.3)\n",
            "Requirement already satisfied: queuelib>=1.4.2 in /Users/luciegabagnou/opt/anaconda3/envs/scrap/lib/python3.9/site-packages (from scrapy->-r requirements.txt (line 7)) (1.6.2)\n",
            "Requirement already satisfied: itemloaders>=1.0.1 in /Users/luciegabagnou/opt/anaconda3/envs/scrap/lib/python3.9/site-packages (from scrapy->-r requirements.txt (line 7)) (1.0.6)\n",
            "Requirement already satisfied: zope.interface>=5.1.0 in /Users/luciegabagnou/opt/anaconda3/envs/scrap/lib/python3.9/site-packages (from scrapy->-r requirements.txt (line 7)) (5.5.2)\n",
            "Requirement already satisfied: service-identity>=18.1.0 in /Users/luciegabagnou/opt/anaconda3/envs/scrap/lib/python3.9/site-packages (from scrapy->-r requirements.txt (line 7)) (21.1.0)\n",
            "Requirement already satisfied: lxml>=4.3.0 in /Users/luciegabagnou/opt/anaconda3/envs/scrap/lib/python3.9/site-packages (from scrapy->-r requirements.txt (line 7)) (4.9.2)\n",
            "Requirement already satisfied: PyDispatcher>=2.0.5 in /Users/luciegabagnou/opt/anaconda3/envs/scrap/lib/python3.9/site-packages (from scrapy->-r requirements.txt (line 7)) (2.0.6)\n",
            "Requirement already satisfied: packaging in /Users/luciegabagnou/opt/anaconda3/envs/scrap/lib/python3.9/site-packages (from scrapy->-r requirements.txt (line 7)) (23.0)\n",
            "Requirement already satisfied: w3lib>=1.17.0 in /Users/luciegabagnou/opt/anaconda3/envs/scrap/lib/python3.9/site-packages (from scrapy->-r requirements.txt (line 7)) (2.1.1)\n",
            "Requirement already satisfied: tldextract in /Users/luciegabagnou/opt/anaconda3/envs/scrap/lib/python3.9/site-packages (from scrapy->-r requirements.txt (line 7)) (3.4.0)\n",
            "Requirement already satisfied: itemadapter>=0.1.0 in /Users/luciegabagnou/opt/anaconda3/envs/scrap/lib/python3.9/site-packages (from scrapy->-r requirements.txt (line 7)) (0.7.0)\n",
            "Requirement already satisfied: beautifulsoup4 in /Users/luciegabagnou/opt/anaconda3/envs/scrap/lib/python3.9/site-packages (from bs4->-r requirements.txt (line 8)) (4.11.1)\n",
            "Requirement already satisfied: websockets in /Users/luciegabagnou/opt/anaconda3/envs/scrap/lib/python3.9/site-packages (from undetected-chromedriver->-r requirements.txt (line 9)) (10.4)\n",
            "Requirement already satisfied: tqdm<5.0.0,>=4.38.0 in /Users/luciegabagnou/opt/anaconda3/envs/scrap/lib/python3.9/site-packages (from spacy->-r requirements.txt (line 10)) (4.64.1)\n",
            "Requirement already satisfied: typer<0.8.0,>=0.3.0 in /Users/luciegabagnou/opt/anaconda3/envs/scrap/lib/python3.9/site-packages (from spacy->-r requirements.txt (line 10)) (0.7.0)\n",
            "Requirement already satisfied: spacy-loggers<2.0.0,>=1.0.0 in /Users/luciegabagnou/opt/anaconda3/envs/scrap/lib/python3.9/site-packages (from spacy->-r requirements.txt (line 10)) (1.0.4)\n",
            "Requirement already satisfied: smart-open<7.0.0,>=5.2.1 in /Users/luciegabagnou/opt/anaconda3/envs/scrap/lib/python3.9/site-packages (from spacy->-r requirements.txt (line 10)) (6.3.0)\n",
            "Requirement already satisfied: thinc<8.2.0,>=8.1.0 in /Users/luciegabagnou/opt/anaconda3/envs/scrap/lib/python3.9/site-packages (from spacy->-r requirements.txt (line 10)) (8.1.7)\n",
            "Requirement already satisfied: preshed<3.1.0,>=3.0.2 in /Users/luciegabagnou/opt/anaconda3/envs/scrap/lib/python3.9/site-packages (from spacy->-r requirements.txt (line 10)) (3.0.8)\n",
            "Requirement already satisfied: jinja2 in /Users/luciegabagnou/opt/anaconda3/envs/scrap/lib/python3.9/site-packages (from spacy->-r requirements.txt (line 10)) (3.1.2)\n",
            "Requirement already satisfied: cymem<2.1.0,>=2.0.2 in /Users/luciegabagnou/opt/anaconda3/envs/scrap/lib/python3.9/site-packages (from spacy->-r requirements.txt (line 10)) (2.0.7)\n",
            "Requirement already satisfied: numpy>=1.15.0 in /Users/luciegabagnou/opt/anaconda3/envs/scrap/lib/python3.9/site-packages (from spacy->-r requirements.txt (line 10)) (1.23.5)\n",
            "Requirement already satisfied: langcodes<4.0.0,>=3.2.0 in /Users/luciegabagnou/opt/anaconda3/envs/scrap/lib/python3.9/site-packages (from spacy->-r requirements.txt (line 10)) (3.3.0)\n",
            "Requirement already satisfied: spacy-legacy<3.1.0,>=3.0.11 in /Users/luciegabagnou/opt/anaconda3/envs/scrap/lib/python3.9/site-packages (from spacy->-r requirements.txt (line 10)) (3.0.12)\n",
            "Requirement already satisfied: catalogue<2.1.0,>=2.0.6 in /Users/luciegabagnou/opt/anaconda3/envs/scrap/lib/python3.9/site-packages (from spacy->-r requirements.txt (line 10)) (2.0.8)\n",
            "Requirement already satisfied: murmurhash<1.1.0,>=0.28.0 in /Users/luciegabagnou/opt/anaconda3/envs/scrap/lib/python3.9/site-packages (from spacy->-r requirements.txt (line 10)) (1.0.9)\n",
            "Requirement already satisfied: srsly<3.0.0,>=2.4.3 in /Users/luciegabagnou/opt/anaconda3/envs/scrap/lib/python3.9/site-packages (from spacy->-r requirements.txt (line 10)) (2.4.5)\n",
            "Requirement already satisfied: wasabi<1.2.0,>=0.9.1 in /Users/luciegabagnou/opt/anaconda3/envs/scrap/lib/python3.9/site-packages (from spacy->-r requirements.txt (line 10)) (1.1.1)\n",
            "Requirement already satisfied: pathy>=0.10.0 in /Users/luciegabagnou/opt/anaconda3/envs/scrap/lib/python3.9/site-packages (from spacy->-r requirements.txt (line 10)) (0.10.1)\n",
            "Requirement already satisfied: pydantic!=1.8,!=1.8.1,<1.11.0,>=1.7.4 in /Users/luciegabagnou/opt/anaconda3/envs/scrap/lib/python3.9/site-packages (from spacy->-r requirements.txt (line 10)) (1.10.4)\n",
            "Requirement already satisfied: contourpy>=1.0.1 in /Users/luciegabagnou/opt/anaconda3/envs/scrap/lib/python3.9/site-packages (from matplotlib->-r requirements.txt (line 11)) (1.0.7)\n",
            "Requirement already satisfied: pyparsing>=2.2.1 in /Users/luciegabagnou/opt/anaconda3/envs/scrap/lib/python3.9/site-packages (from matplotlib->-r requirements.txt (line 11)) (3.0.9)\n",
            "Requirement already satisfied: fonttools>=4.22.0 in /Users/luciegabagnou/opt/anaconda3/envs/scrap/lib/python3.9/site-packages (from matplotlib->-r requirements.txt (line 11)) (4.38.0)\n",
            "Requirement already satisfied: python-dateutil>=2.7 in /Users/luciegabagnou/opt/anaconda3/envs/scrap/lib/python3.9/site-packages (from matplotlib->-r requirements.txt (line 11)) (2.8.2)\n",
            "Requirement already satisfied: pillow>=6.2.0 in /Users/luciegabagnou/opt/anaconda3/envs/scrap/lib/python3.9/site-packages (from matplotlib->-r requirements.txt (line 11)) (9.4.0)\n",
            "Requirement already satisfied: kiwisolver>=1.0.1 in /Users/luciegabagnou/opt/anaconda3/envs/scrap/lib/python3.9/site-packages (from matplotlib->-r requirements.txt (line 11)) (1.4.4)\n",
            "Requirement already satisfied: cycler>=0.10 in /Users/luciegabagnou/opt/anaconda3/envs/scrap/lib/python3.9/site-packages (from matplotlib->-r requirements.txt (line 11)) (0.11.0)\n",
            "Requirement already satisfied: pytz>=2020.1 in /Users/luciegabagnou/opt/anaconda3/envs/scrap/lib/python3.9/site-packages (from pandas->-r requirements.txt (line 12)) (2022.7)\n",
            "Requirement already satisfied: tenacity>=6.2.0 in /Users/luciegabagnou/opt/anaconda3/envs/scrap/lib/python3.9/site-packages (from plotly->-r requirements.txt (line 14)) (8.1.0)\n",
            "Requirement already satisfied: scipy>=1.3.2 in /Users/luciegabagnou/opt/anaconda3/envs/scrap/lib/python3.9/site-packages (from scikit-learn->-r requirements.txt (line 15)) (1.10.0)\n",
            "Requirement already satisfied: threadpoolctl>=2.0.0 in /Users/luciegabagnou/opt/anaconda3/envs/scrap/lib/python3.9/site-packages (from scikit-learn->-r requirements.txt (line 15)) (3.1.0)\n",
            "Requirement already satisfied: joblib>=1.1.1 in /Users/luciegabagnou/opt/anaconda3/envs/scrap/lib/python3.9/site-packages (from scikit-learn->-r requirements.txt (line 15)) (1.2.0)\n",
            "Requirement already satisfied: nltk>=3.1 in /Users/luciegabagnou/opt/anaconda3/envs/scrap/lib/python3.9/site-packages (from textblob->-r requirements.txt (line 17)) (3.8.1)\n",
            "Requirement already satisfied: geographiclib<3,>=1.52 in /Users/luciegabagnou/opt/anaconda3/envs/scrap/lib/python3.9/site-packages (from geopy->-r requirements.txt (line 18)) (2.0)\n",
            "Requirement already satisfied: cffi>=1.12 in /Users/luciegabagnou/opt/anaconda3/envs/scrap/lib/python3.9/site-packages (from cryptography>=3.3->scrapy->-r requirements.txt (line 7)) (1.15.1)\n",
            "Requirement already satisfied: jmespath>=0.9.5 in /Users/luciegabagnou/opt/anaconda3/envs/scrap/lib/python3.9/site-packages (from itemloaders>=1.0.1->scrapy->-r requirements.txt (line 7)) (1.0.1)\n",
            "Requirement already satisfied: click in /Users/luciegabagnou/opt/anaconda3/envs/scrap/lib/python3.9/site-packages (from nltk>=3.1->textblob->-r requirements.txt (line 17)) (8.1.3)\n",
            "Requirement already satisfied: regex>=2021.8.3 in /Users/luciegabagnou/opt/anaconda3/envs/scrap/lib/python3.9/site-packages (from nltk>=3.1->textblob->-r requirements.txt (line 17)) (2022.10.31)\n",
            "Requirement already satisfied: six in /Users/luciegabagnou/opt/anaconda3/envs/scrap/lib/python3.9/site-packages (from protego>=0.1.15->scrapy->-r requirements.txt (line 7)) (1.16.0)\n",
            "Requirement already satisfied: typing-extensions>=4.2.0 in /Users/luciegabagnou/opt/anaconda3/envs/scrap/lib/python3.9/site-packages (from pydantic!=1.8,!=1.8.1,<1.11.0,>=1.7.4->spacy->-r requirements.txt (line 10)) (4.4.0)\n",
            "Requirement already satisfied: attrs>=19.1.0 in /Users/luciegabagnou/opt/anaconda3/envs/scrap/lib/python3.9/site-packages (from service-identity>=18.1.0->scrapy->-r requirements.txt (line 7)) (22.2.0)\n",
            "Requirement already satisfied: pyasn1 in /Users/luciegabagnou/opt/anaconda3/envs/scrap/lib/python3.9/site-packages (from service-identity>=18.1.0->scrapy->-r requirements.txt (line 7)) (0.4.8)\n",
            "Requirement already satisfied: pyasn1-modules in /Users/luciegabagnou/opt/anaconda3/envs/scrap/lib/python3.9/site-packages (from service-identity>=18.1.0->scrapy->-r requirements.txt (line 7)) (0.2.8)\n",
            "Requirement already satisfied: confection<1.0.0,>=0.0.1 in /Users/luciegabagnou/opt/anaconda3/envs/scrap/lib/python3.9/site-packages (from thinc<8.2.0,>=8.1.0->spacy->-r requirements.txt (line 10)) (0.0.4)\n",
            "Requirement already satisfied: blis<0.8.0,>=0.7.8 in /Users/luciegabagnou/opt/anaconda3/envs/scrap/lib/python3.9/site-packages (from thinc<8.2.0,>=8.1.0->spacy->-r requirements.txt (line 10)) (0.7.9)\n",
            "Requirement already satisfied: outcome in /Users/luciegabagnou/opt/anaconda3/envs/scrap/lib/python3.9/site-packages (from trio~=0.17->selenium->-r requirements.txt (line 1)) (1.2.0)\n",
            "Requirement already satisfied: sniffio in /Users/luciegabagnou/opt/anaconda3/envs/scrap/lib/python3.9/site-packages (from trio~=0.17->selenium->-r requirements.txt (line 1)) (1.3.0)\n",
            "Requirement already satisfied: sortedcontainers in /Users/luciegabagnou/opt/anaconda3/envs/scrap/lib/python3.9/site-packages (from trio~=0.17->selenium->-r requirements.txt (line 1)) (2.4.0)\n",
            "Requirement already satisfied: exceptiongroup>=1.0.0rc9 in /Users/luciegabagnou/opt/anaconda3/envs/scrap/lib/python3.9/site-packages (from trio~=0.17->selenium->-r requirements.txt (line 1)) (1.1.0)\n",
            "Requirement already satisfied: async-generator>=1.9 in /Users/luciegabagnou/opt/anaconda3/envs/scrap/lib/python3.9/site-packages (from trio~=0.17->selenium->-r requirements.txt (line 1)) (1.10)\n",
            "Requirement already satisfied: wsproto>=0.14 in /Users/luciegabagnou/opt/anaconda3/envs/scrap/lib/python3.9/site-packages (from trio-websocket~=0.9->selenium->-r requirements.txt (line 1)) (1.2.0)\n",
            "Requirement already satisfied: constantly>=15.1 in /Users/luciegabagnou/opt/anaconda3/envs/scrap/lib/python3.9/site-packages (from Twisted>=18.9.0->scrapy->-r requirements.txt (line 7)) (15.1.0)\n",
            "Requirement already satisfied: incremental>=21.3.0 in /Users/luciegabagnou/opt/anaconda3/envs/scrap/lib/python3.9/site-packages (from Twisted>=18.9.0->scrapy->-r requirements.txt (line 7)) (22.10.0)\n",
            "Requirement already satisfied: Automat>=0.8.0 in /Users/luciegabagnou/opt/anaconda3/envs/scrap/lib/python3.9/site-packages (from Twisted>=18.9.0->scrapy->-r requirements.txt (line 7)) (22.10.0)\n",
            "Requirement already satisfied: hyperlink>=17.1.1 in /Users/luciegabagnou/opt/anaconda3/envs/scrap/lib/python3.9/site-packages (from Twisted>=18.9.0->scrapy->-r requirements.txt (line 7)) (21.0.0)\n",
            "Requirement already satisfied: PySocks!=1.5.7,<2.0,>=1.5.6 in /Users/luciegabagnou/opt/anaconda3/envs/scrap/lib/python3.9/site-packages (from urllib3[socks]~=1.26->selenium->-r requirements.txt (line 1)) (1.7.1)\n",
            "Requirement already satisfied: soupsieve>1.2 in /Users/luciegabagnou/opt/anaconda3/envs/scrap/lib/python3.9/site-packages (from beautifulsoup4->bs4->-r requirements.txt (line 8)) (2.3.2.post1)\n",
            "Requirement already satisfied: MarkupSafe>=2.0 in /Users/luciegabagnou/opt/anaconda3/envs/scrap/lib/python3.9/site-packages (from jinja2->spacy->-r requirements.txt (line 10)) (2.1.2)\n",
            "Requirement already satisfied: filelock>=3.0.8 in /Users/luciegabagnou/opt/anaconda3/envs/scrap/lib/python3.9/site-packages (from tldextract->scrapy->-r requirements.txt (line 7)) (3.9.0)\n",
            "Requirement already satisfied: requests-file>=1.4 in /Users/luciegabagnou/opt/anaconda3/envs/scrap/lib/python3.9/site-packages (from tldextract->scrapy->-r requirements.txt (line 7)) (1.5.1)\n",
            "Requirement already satisfied: pycparser in /Users/luciegabagnou/opt/anaconda3/envs/scrap/lib/python3.9/site-packages (from cffi>=1.12->cryptography>=3.3->scrapy->-r requirements.txt (line 7)) (2.21)\n",
            "Requirement already satisfied: h11<1,>=0.9.0 in /Users/luciegabagnou/opt/anaconda3/envs/scrap/lib/python3.9/site-packages (from wsproto>=0.14->trio-websocket~=0.9->selenium->-r requirements.txt (line 1)) (0.14.0)\n"
          ]
        }
      ],
      "source": [
        "!pip install -r requirements.txt"
      ]
    },
    {
      "cell_type": "code",
      "execution_count": 6,
      "metadata": {
        "id": "-qjJ-2Pq1ATg"
      },
      "outputs": [],
      "source": [
        "\n",
        "from pyspark import  HiveContext , SparkContext\n",
        "from pyspark.sql.types import StructType, StructField, StringType, IntegerType, ArrayType, DoubleType\n",
        "from pyspark.sql import SparkSession\n",
        "from pyspark.sql.functions import col, udf\n",
        "import re\n",
        "from scripts.utils import get_digits\n",
        "\n"
      ]
    },
    {
      "cell_type": "markdown",
      "metadata": {
        "id": "1VWBsExlBveq"
      },
      "source": [
        "Dans un premier temps, on créer une session Spark, celle sur laquelle on va load le dataframe et effectuer nos modifications. Dans le notebook, on load un DataFrame, mais dans la partie développement, on exectuera cela sur la base MySQL. "
      ]
    },
    {
      "cell_type": "code",
      "execution_count": 7,
      "metadata": {
        "id": "8iBOMHSL1ATj"
      },
      "outputs": [
        {
          "name": "stderr",
          "output_type": "stream",
          "text": [
            "23/01/25 17:05:42 WARN Utils: Your hostname, MacBook-Air.local resolves to a loopback address: 127.0.0.1; using 172.20.10.12 instead (on interface en0)\n",
            "23/01/25 17:05:42 WARN Utils: Set SPARK_LOCAL_IP if you need to bind to another address\n",
            "Using Spark's default log4j profile: org/apache/spark/log4j-defaults.properties\n",
            "Setting default log level to \"WARN\".\n",
            "To adjust logging level use sc.setLogLevel(newLevel). For SparkR, use setLogLevel(newLevel).\n",
            "23/01/25 17:05:43 WARN NativeCodeLoader: Unable to load native-hadoop library for your platform... using builtin-java classes where applicable\n",
            "                                                                                \r"
          ]
        },
        {
          "name": "stdout",
          "output_type": "stream",
          "text": [
            "+------------+--------------------+--------------------+--------------+--------------------+---------+--------------------+--------------------+\n",
            "|average_note|            location|                name|number_reviews|  price_and_cuisines|  ranking|             reviews|                 url|\n",
            "+------------+--------------------+--------------------+--------------+--------------------+---------+--------------------+--------------------+\n",
            "|         4,5|149 boulevard Vol...|        Cafe Leopard|            97|[€€-€€€, Français...|    Nº 39|[Café Leopard, al...|https://www.tripa...|\n",
            "|         4,0|68 Rue de Grenell...|       Cuillier Café|             7|           [€, Café]|   Nº 708|[Bon petit goûter...|https://www.tripa...|\n",
            "|         4,0|40 rue Gregoire d...|          Oenosteria|           138|[€€-€€€, Italienn...| Nº 2 485|[A éviter absolum...|https://www.tripa...|\n",
            "|         4,5|9 Rue Joseph de M...|           La Bossue|           480|[€€-€€€, Français...|   Nº 174|[Superbe expérien...|https://www.tripa...|\n",
            "|         4,0|7 Rue du Faubourg...|            Baranaan|           256|[€€-€€€, Indienne...| Nº 1 742|[Concept sympa:Pe...|https://www.tripa...|\n",
            "|         3,5|108 Rue de la Roq...|        La Fee Verte|           307|[€€-€€€, Français...|   Nº 131|[Super:Superbe ex...|https://www.tripa...|\n",
            "|         4,5|4 Avenue Carnot, ...|        Le Vin Coeur|           675|[€€-€€€, Français...|   Nº 261|[Très bonne soiré...|https://www.tripa...|\n",
            "|         5,0|210 Rue Saint-Mau...|         Leo Bistrot|             1|                  []|Nº 11 602|                  []|https://www.tripa...|\n",
            "|         5,0|80 boulevard Rasp...|           Foodelice|            13|[€, Café, Restaur...|   Nº 423|[Très bonne adres...|https://www.tripa...|\n",
            "|         3,5|16 Place des Abbe...|Une Glace à Paris...|            10|   [€€€€, Française]| Nº 5 854|[Service horrible...|https://www.tripa...|\n",
            "|         5,0|32 avenue louis p...|FOOD FACTORY Bagneux|             1|                  []|Nº 12 301|[Commande Uber ea...|https://www.tripa...|\n",
            "|         3,0|68 rue Saint Deni...|  Hall's Beer Tavern|           107|[€€-€€€, Français...|Nº 13 190|[Un service au to...|https://www.tripa...|\n",
            "|         4,5|36 boulevard Dide...|Cafe Minute Papillon|            69| [€€-€€€, Française]| Nº 1 899|[Fort sympathique...|https://www.tripa...|\n",
            "|         4,0|55 Rue Montmartre...|     Pizz'aria Paris|             1|     [€€-€€€, Pizza]|   Nº 667|[Très bonnes pizz...|https://www.tripa...|\n",
            "|         3,0|271 avenue Daumes...|Pizzeria Villa Ro...|            87|[€€-€€€, Italienn...| Nº 3 423|[Un restaurant qu...|https://www.tripa...|\n",
            "|         4,5|9 Place de l’Adju...|         Grill House|             3| [€€-€€€, Française]| Nº 5 039|[NE PAS SE FIER Q...|https://www.tripa...|\n",
            "|         4,5|110 boulevard de ...|Le Diplomate Pari...|            93|[€€-€€€, Français...| Nº 1 642|[Adresse à reteni...|https://www.tripa...|\n",
            "|         4,5|71 rue des Gravil...|          Ai's Bento|            29|[€€-€€€, Chinoise...|   Nº 593|[Cuisine asiatiqu...|https://www.tripa...|\n",
            "|         3,5|42 rue Mazarine, ...|  Le Bistrot Mazarin|           283|[€€-€€€, Français...| Nº 4 934|[Une excellente b...|https://www.tripa...|\n",
            "|         4,0|35 rue de Rivoli,...|               Bayan|            28|[€€-€€€, Chinoise...| Nº 6 106|[Excellent 👌:Bon...|https://www.tripa...|\n",
            "+------------+--------------------+--------------------+--------------+--------------------+---------+--------------------+--------------------+\n",
            "only showing top 20 rows\n",
            "\n"
          ]
        }
      ],
      "source": [
        "spark = SparkSession.builder.appName(\"Load JSON\").getOrCreate()\n",
        "df = spark.read.option(\"multiline\",\"true\").json(\"data/fetch_data.json\")\n",
        "df.show()"
      ]
    },
    {
      "cell_type": "markdown",
      "metadata": {
        "id": "Dv8OyTtdCY5i"
      },
      "source": [
        "Dans un premier temps, on s'assure que les types soient corrects:"
      ]
    },
    {
      "cell_type": "code",
      "execution_count": 8,
      "metadata": {
        "id": "9rcNN6f6BAX5"
      },
      "outputs": [
        {
          "name": "stdout",
          "output_type": "stream",
          "text": [
            "root\n",
            " |-- average_note: string (nullable = true)\n",
            " |-- location: string (nullable = true)\n",
            " |-- name: string (nullable = true)\n",
            " |-- number_reviews: string (nullable = true)\n",
            " |-- price_and_cuisines: array (nullable = true)\n",
            " |    |-- element: string (containsNull = true)\n",
            " |-- ranking: string (nullable = true)\n",
            " |-- reviews: array (nullable = true)\n",
            " |    |-- element: string (containsNull = true)\n",
            " |-- url: string (nullable = true)\n",
            "\n"
          ]
        }
      ],
      "source": [
        "df.printSchema()"
      ]
    },
    {
      "cell_type": "markdown",
      "metadata": {
        "id": "sdkxSDOhDU7T"
      },
      "source": [
        "On voit que \"average note\" est en string alors qu'il doit s'agir de nombres décimaux, de même pour le nombre de reviews, le classement (ranking).\n"
      ]
    },
    {
      "cell_type": "markdown",
      "metadata": {
        "id": "XzjRAkoQDX6P"
      },
      "source": [
        "#### Type \n",
        "On corrige les types qui posaient problèmes précèdemment:"
      ]
    },
    {
      "cell_type": "code",
      "execution_count": 9,
      "metadata": {
        "id": "P0mwiljb3Mu6"
      },
      "outputs": [],
      "source": [
        "from scripts.utils import get_digits"
      ]
    },
    {
      "cell_type": "code",
      "execution_count": 10,
      "metadata": {},
      "outputs": [],
      "source": [
        "def get_digits(string_to_digit: str):\n",
        "    \"\"\"\n",
        "    Given a string, returns the first set of consecutive digits found as an int.\n",
        "    If no digits are found, returns None.\n",
        "    \"\"\"\n",
        "\n",
        "    if string_to_digit:\n",
        "            try:\n",
        "                return float(\"\".join(re.findall(r'[+-]?\\d*\\.\\d+|\\d+', string_to_digit)))\n",
        "            except:\n",
        "                return  0.0\n",
        "    "
      ]
    },
    {
      "cell_type": "code",
      "execution_count": 11,
      "metadata": {
        "id": "1Ssfw0u_H4EH"
      },
      "outputs": [],
      "source": [
        "# Création d'une fonction définie par utilisateur (udf). On a repris la fonction get_digits disponibles dans les utils\n",
        "# Application sur la colonne des classements pour récupérer les chiffres/nombres de la chaîne de caractères n°1 => 1\n",
        "# Apply UDF to the column \"tripadvisor rank\"\n",
        "from pyspark.sql.functions import col, lit, regexp_replace\n",
        "get_digits_udf = udf(get_digits, DoubleType())\n",
        "df = df.withColumn(\"average_note\", regexp_replace(col(\"average_note\"), \",\", \".\"))\n",
        "df = df.withColumn(\"ranking\", get_digits_udf(df[\"ranking\"]))\n",
        "df = df.withColumn(\"average_note\", get_digits_udf(df[\"average_note\"]))\n",
        "df = df.withColumn(\"number_reviews\", get_digits_udf(df[\"number_reviews\"]))\n"
      ]
    },
    {
      "cell_type": "code",
      "execution_count": 12,
      "metadata": {
        "id": "99aLa4t19Gic"
      },
      "outputs": [
        {
          "name": "stdout",
          "output_type": "stream",
          "text": [
            "root\n",
            " |-- average_note: double (nullable = true)\n",
            " |-- location: string (nullable = true)\n",
            " |-- name: string (nullable = true)\n",
            " |-- number_reviews: double (nullable = true)\n",
            " |-- price_and_cuisines: array (nullable = true)\n",
            " |    |-- element: string (containsNull = true)\n",
            " |-- ranking: double (nullable = true)\n",
            " |-- reviews: array (nullable = true)\n",
            " |    |-- element: string (containsNull = true)\n",
            " |-- url: string (nullable = true)\n",
            "\n"
          ]
        }
      ],
      "source": [
        "df.printSchema()"
      ]
    },
    {
      "cell_type": "code",
      "execution_count": 13,
      "metadata": {
        "id": "8CgKloJ24L-7"
      },
      "outputs": [
        {
          "name": "stderr",
          "output_type": "stream",
          "text": [
            "[Stage 2:>                                                          (0 + 1) / 1]\r"
          ]
        },
        {
          "name": "stdout",
          "output_type": "stream",
          "text": [
            "+------------+--------------------+--------------------+--------------+--------------------+-------+--------------------+--------------------+\n",
            "|average_note|            location|                name|number_reviews|  price_and_cuisines|ranking|             reviews|                 url|\n",
            "+------------+--------------------+--------------------+--------------+--------------------+-------+--------------------+--------------------+\n",
            "|         4.5|149 boulevard Vol...|        Cafe Leopard|          97.0|[€€-€€€, Français...|   39.0|[Café Leopard, al...|https://www.tripa...|\n",
            "|         4.0|68 Rue de Grenell...|       Cuillier Café|           7.0|           [€, Café]|  708.0|[Bon petit goûter...|https://www.tripa...|\n",
            "|         4.0|40 rue Gregoire d...|          Oenosteria|         138.0|[€€-€€€, Italienn...| 2485.0|[A éviter absolum...|https://www.tripa...|\n",
            "|         4.5|9 Rue Joseph de M...|           La Bossue|         480.0|[€€-€€€, Français...|  174.0|[Superbe expérien...|https://www.tripa...|\n",
            "|         4.0|7 Rue du Faubourg...|            Baranaan|         256.0|[€€-€€€, Indienne...| 1742.0|[Concept sympa:Pe...|https://www.tripa...|\n",
            "|         3.5|108 Rue de la Roq...|        La Fee Verte|         307.0|[€€-€€€, Français...|  131.0|[Super:Superbe ex...|https://www.tripa...|\n",
            "|         4.5|4 Avenue Carnot, ...|        Le Vin Coeur|         675.0|[€€-€€€, Français...|  261.0|[Très bonne soiré...|https://www.tripa...|\n",
            "|         5.0|210 Rue Saint-Mau...|         Leo Bistrot|           1.0|                  []|11602.0|                  []|https://www.tripa...|\n",
            "|         5.0|80 boulevard Rasp...|           Foodelice|          13.0|[€, Café, Restaur...|  423.0|[Très bonne adres...|https://www.tripa...|\n",
            "|         3.5|16 Place des Abbe...|Une Glace à Paris...|          10.0|   [€€€€, Française]| 5854.0|[Service horrible...|https://www.tripa...|\n",
            "|         5.0|32 avenue louis p...|FOOD FACTORY Bagneux|           1.0|                  []|12301.0|[Commande Uber ea...|https://www.tripa...|\n",
            "|         3.0|68 rue Saint Deni...|  Hall's Beer Tavern|         107.0|[€€-€€€, Français...|13190.0|[Un service au to...|https://www.tripa...|\n",
            "|         4.5|36 boulevard Dide...|Cafe Minute Papillon|          69.0| [€€-€€€, Française]| 1899.0|[Fort sympathique...|https://www.tripa...|\n",
            "|         4.0|55 Rue Montmartre...|     Pizz'aria Paris|           1.0|     [€€-€€€, Pizza]|  667.0|[Très bonnes pizz...|https://www.tripa...|\n",
            "|         3.0|271 avenue Daumes...|Pizzeria Villa Ro...|          87.0|[€€-€€€, Italienn...| 3423.0|[Un restaurant qu...|https://www.tripa...|\n",
            "|         4.5|9 Place de l’Adju...|         Grill House|           3.0| [€€-€€€, Française]| 5039.0|[NE PAS SE FIER Q...|https://www.tripa...|\n",
            "|         4.5|110 boulevard de ...|Le Diplomate Pari...|          93.0|[€€-€€€, Français...| 1642.0|[Adresse à reteni...|https://www.tripa...|\n",
            "|         4.5|71 rue des Gravil...|          Ai's Bento|          29.0|[€€-€€€, Chinoise...|  593.0|[Cuisine asiatiqu...|https://www.tripa...|\n",
            "|         3.5|42 rue Mazarine, ...|  Le Bistrot Mazarin|         283.0|[€€-€€€, Français...| 4934.0|[Une excellente b...|https://www.tripa...|\n",
            "|         4.0|35 rue de Rivoli,...|               Bayan|          28.0|[€€-€€€, Chinoise...| 6106.0|[Excellent 👌:Bon...|https://www.tripa...|\n",
            "+------------+--------------------+--------------------+--------------+--------------------+-------+--------------------+--------------------+\n",
            "only showing top 20 rows\n",
            "\n"
          ]
        },
        {
          "name": "stderr",
          "output_type": "stream",
          "text": [
            "                                                                                \r"
          ]
        }
      ],
      "source": [
        "df.show()"
      ]
    },
    {
      "cell_type": "markdown",
      "metadata": {
        "id": "aftIph6tIuoW"
      },
      "source": [
        "Les types ont bien été corrigés."
      ]
    },
    {
      "cell_type": "markdown",
      "metadata": {
        "id": "cQlRI4bqIxuR"
      },
      "source": [
        "### Feature engineering:\n",
        "- On va séparer le contenu de la colonne \"price and cuisines\", qui regroupe le prix et les types de cuisine. Nous ne l'avons pas fait lors du webscrapping sachant qu'il n'était pas évident de séparer le contenu: \n",
        "- Géolocalisation: on veut récupérer les coordonnées géographiques pour l'appli.."
      ]
    },
    {
      "cell_type": "markdown",
      "metadata": {
        "id": "aWr35HyQJUZP"
      },
      "source": [
        "##### Price and cuisines"
      ]
    },
    {
      "cell_type": "markdown",
      "metadata": {
        "id": "fNOrakBAJZEy"
      },
      "source": [
        "En effet, on voit qu'il n'est pas évident de trouver une règle simple de séparation car le nombre d'élements n'est pas le même selon les restaurants (parfois aucune information, parfois 4, parfois prix, parfois non, etc..):"
      ]
    },
    {
      "cell_type": "code",
      "execution_count": 14,
      "metadata": {
        "id": "5yNxU5R_J7Ij"
      },
      "outputs": [
        {
          "name": "stdout",
          "output_type": "stream",
          "text": [
            "Collecting fr-core-news-md==3.5.0\n",
            "  Downloading https://github.com/explosion/spacy-models/releases/download/fr_core_news_md-3.5.0/fr_core_news_md-3.5.0-py3-none-any.whl (45.8 MB)\n",
            "     ━━━━━━━━━━━━━━━━━━━━━━━━━━━━━━━━━━━━━━━━ 45.8/45.8 MB 3.8 MB/s eta 0:00:00\n",
            "Requirement already satisfied: spacy<3.6.0,>=3.5.0 in /Users/luciegabagnou/opt/anaconda3/envs/scrap/lib/python3.9/site-packages (from fr-core-news-md==3.5.0) (3.5.0)\n",
            "Requirement already satisfied: pathy>=0.10.0 in /Users/luciegabagnou/opt/anaconda3/envs/scrap/lib/python3.9/site-packages (from spacy<3.6.0,>=3.5.0->fr-core-news-md==3.5.0) (0.10.1)\n",
            "Requirement already satisfied: setuptools in /Users/luciegabagnou/opt/anaconda3/envs/scrap/lib/python3.9/site-packages (from spacy<3.6.0,>=3.5.0->fr-core-news-md==3.5.0) (65.6.3)\n",
            "Requirement already satisfied: pydantic!=1.8,!=1.8.1,<1.11.0,>=1.7.4 in /Users/luciegabagnou/opt/anaconda3/envs/scrap/lib/python3.9/site-packages (from spacy<3.6.0,>=3.5.0->fr-core-news-md==3.5.0) (1.10.4)\n",
            "Requirement already satisfied: preshed<3.1.0,>=3.0.2 in /Users/luciegabagnou/opt/anaconda3/envs/scrap/lib/python3.9/site-packages (from spacy<3.6.0,>=3.5.0->fr-core-news-md==3.5.0) (3.0.8)\n",
            "Requirement already satisfied: tqdm<5.0.0,>=4.38.0 in /Users/luciegabagnou/opt/anaconda3/envs/scrap/lib/python3.9/site-packages (from spacy<3.6.0,>=3.5.0->fr-core-news-md==3.5.0) (4.64.1)\n",
            "Requirement already satisfied: numpy>=1.15.0 in /Users/luciegabagnou/opt/anaconda3/envs/scrap/lib/python3.9/site-packages (from spacy<3.6.0,>=3.5.0->fr-core-news-md==3.5.0) (1.23.5)\n",
            "Requirement already satisfied: cymem<2.1.0,>=2.0.2 in /Users/luciegabagnou/opt/anaconda3/envs/scrap/lib/python3.9/site-packages (from spacy<3.6.0,>=3.5.0->fr-core-news-md==3.5.0) (2.0.7)\n",
            "Requirement already satisfied: packaging>=20.0 in /Users/luciegabagnou/opt/anaconda3/envs/scrap/lib/python3.9/site-packages (from spacy<3.6.0,>=3.5.0->fr-core-news-md==3.5.0) (23.0)\n",
            "Requirement already satisfied: spacy-loggers<2.0.0,>=1.0.0 in /Users/luciegabagnou/opt/anaconda3/envs/scrap/lib/python3.9/site-packages (from spacy<3.6.0,>=3.5.0->fr-core-news-md==3.5.0) (1.0.4)\n",
            "Requirement already satisfied: jinja2 in /Users/luciegabagnou/opt/anaconda3/envs/scrap/lib/python3.9/site-packages (from spacy<3.6.0,>=3.5.0->fr-core-news-md==3.5.0) (3.1.2)\n",
            "Requirement already satisfied: spacy-legacy<3.1.0,>=3.0.11 in /Users/luciegabagnou/opt/anaconda3/envs/scrap/lib/python3.9/site-packages (from spacy<3.6.0,>=3.5.0->fr-core-news-md==3.5.0) (3.0.12)\n",
            "Requirement already satisfied: langcodes<4.0.0,>=3.2.0 in /Users/luciegabagnou/opt/anaconda3/envs/scrap/lib/python3.9/site-packages (from spacy<3.6.0,>=3.5.0->fr-core-news-md==3.5.0) (3.3.0)\n",
            "Requirement already satisfied: smart-open<7.0.0,>=5.2.1 in /Users/luciegabagnou/opt/anaconda3/envs/scrap/lib/python3.9/site-packages (from spacy<3.6.0,>=3.5.0->fr-core-news-md==3.5.0) (6.3.0)\n",
            "Requirement already satisfied: srsly<3.0.0,>=2.4.3 in /Users/luciegabagnou/opt/anaconda3/envs/scrap/lib/python3.9/site-packages (from spacy<3.6.0,>=3.5.0->fr-core-news-md==3.5.0) (2.4.5)\n",
            "Requirement already satisfied: wasabi<1.2.0,>=0.9.1 in /Users/luciegabagnou/opt/anaconda3/envs/scrap/lib/python3.9/site-packages (from spacy<3.6.0,>=3.5.0->fr-core-news-md==3.5.0) (1.1.1)\n",
            "Requirement already satisfied: typer<0.8.0,>=0.3.0 in /Users/luciegabagnou/opt/anaconda3/envs/scrap/lib/python3.9/site-packages (from spacy<3.6.0,>=3.5.0->fr-core-news-md==3.5.0) (0.7.0)\n",
            "Requirement already satisfied: thinc<8.2.0,>=8.1.0 in /Users/luciegabagnou/opt/anaconda3/envs/scrap/lib/python3.9/site-packages (from spacy<3.6.0,>=3.5.0->fr-core-news-md==3.5.0) (8.1.7)\n",
            "Requirement already satisfied: murmurhash<1.1.0,>=0.28.0 in /Users/luciegabagnou/opt/anaconda3/envs/scrap/lib/python3.9/site-packages (from spacy<3.6.0,>=3.5.0->fr-core-news-md==3.5.0) (1.0.9)\n",
            "Requirement already satisfied: catalogue<2.1.0,>=2.0.6 in /Users/luciegabagnou/opt/anaconda3/envs/scrap/lib/python3.9/site-packages (from spacy<3.6.0,>=3.5.0->fr-core-news-md==3.5.0) (2.0.8)\n",
            "Requirement already satisfied: requests<3.0.0,>=2.13.0 in /Users/luciegabagnou/opt/anaconda3/envs/scrap/lib/python3.9/site-packages (from spacy<3.6.0,>=3.5.0->fr-core-news-md==3.5.0) (2.28.2)\n",
            "Requirement already satisfied: typing-extensions>=4.2.0 in /Users/luciegabagnou/opt/anaconda3/envs/scrap/lib/python3.9/site-packages (from pydantic!=1.8,!=1.8.1,<1.11.0,>=1.7.4->spacy<3.6.0,>=3.5.0->fr-core-news-md==3.5.0) (4.4.0)\n",
            "Requirement already satisfied: charset-normalizer<4,>=2 in /Users/luciegabagnou/opt/anaconda3/envs/scrap/lib/python3.9/site-packages (from requests<3.0.0,>=2.13.0->spacy<3.6.0,>=3.5.0->fr-core-news-md==3.5.0) (3.0.1)\n",
            "Requirement already satisfied: idna<4,>=2.5 in /Users/luciegabagnou/opt/anaconda3/envs/scrap/lib/python3.9/site-packages (from requests<3.0.0,>=2.13.0->spacy<3.6.0,>=3.5.0->fr-core-news-md==3.5.0) (3.4)\n",
            "Requirement already satisfied: urllib3<1.27,>=1.21.1 in /Users/luciegabagnou/opt/anaconda3/envs/scrap/lib/python3.9/site-packages (from requests<3.0.0,>=2.13.0->spacy<3.6.0,>=3.5.0->fr-core-news-md==3.5.0) (1.26.14)\n",
            "Requirement already satisfied: certifi>=2017.4.17 in /Users/luciegabagnou/opt/anaconda3/envs/scrap/lib/python3.9/site-packages (from requests<3.0.0,>=2.13.0->spacy<3.6.0,>=3.5.0->fr-core-news-md==3.5.0) (2022.12.7)\n",
            "Requirement already satisfied: confection<1.0.0,>=0.0.1 in /Users/luciegabagnou/opt/anaconda3/envs/scrap/lib/python3.9/site-packages (from thinc<8.2.0,>=8.1.0->spacy<3.6.0,>=3.5.0->fr-core-news-md==3.5.0) (0.0.4)\n",
            "Requirement already satisfied: blis<0.8.0,>=0.7.8 in /Users/luciegabagnou/opt/anaconda3/envs/scrap/lib/python3.9/site-packages (from thinc<8.2.0,>=8.1.0->spacy<3.6.0,>=3.5.0->fr-core-news-md==3.5.0) (0.7.9)\n",
            "Requirement already satisfied: click<9.0.0,>=7.1.1 in /Users/luciegabagnou/opt/anaconda3/envs/scrap/lib/python3.9/site-packages (from typer<0.8.0,>=0.3.0->spacy<3.6.0,>=3.5.0->fr-core-news-md==3.5.0) (8.1.3)\n",
            "Requirement already satisfied: MarkupSafe>=2.0 in /Users/luciegabagnou/opt/anaconda3/envs/scrap/lib/python3.9/site-packages (from jinja2->spacy<3.6.0,>=3.5.0->fr-core-news-md==3.5.0) (2.1.2)\n",
            "\u001b[38;5;2m✔ Download and installation successful\u001b[0m\n",
            "You can now load the package via spacy.load('fr_core_news_md')\n"
          ]
        },
        {
          "name": "stderr",
          "output_type": "stream",
          "text": [
            "[nltk_data] Downloading package stopwords to\n",
            "[nltk_data]     /Users/luciegabagnou/nltk_data...\n",
            "[nltk_data]   Package stopwords is already up-to-date!\n",
            "[nltk_data] Downloading package punkt to\n",
            "[nltk_data]     /Users/luciegabagnou/nltk_data...\n",
            "[nltk_data]   Package punkt is already up-to-date!\n",
            "[nltk_data] Downloading package wordnet to\n",
            "[nltk_data]     /Users/luciegabagnou/nltk_data...\n",
            "[nltk_data]   Package wordnet is already up-to-date!\n"
          ]
        }
      ],
      "source": [
        "from scripts.preprocessor.global_processor import geocode_address,separate_price_and_cuisine\n",
        "\n",
        "# On impose un schéma pour faire en sorte d'avoir le format final souhaité, à savoir des listes/arrays de chaîne de caractères\n",
        "udf_separate_price_and_cuisine = udf(separate_price_and_cuisine, StructType([\n",
        "    StructField(\"price\", ArrayType(StringType())),\n",
        "    StructField(\"cuisine\", ArrayType(StringType()))\n",
        "])) # On renseigne ce schéma dans l' udf\n",
        "\n",
        "#On applique les fonctions\n",
        "df = df.withColumn(\"price\", udf_separate_price_and_cuisine(\"price_and_cuisines\").price) \n",
        "df = df.withColumn(\"cuisine\", udf_separate_price_and_cuisine(\"price_and_cuisines\").cuisine)\n",
        "df = df.drop(*[\"price_and_cuisines\"])"
      ]
    },
    {
      "cell_type": "code",
      "execution_count": 15,
      "metadata": {
        "id": "NRDydcG_KV7C"
      },
      "outputs": [],
      "source": [
        "#df.select([\"price\",\"cuisine\"]).show() "
      ]
    },
    {
      "cell_type": "markdown",
      "metadata": {
        "id": "aqd0VsPkLZ7N"
      },
      "source": [
        "##### Localisation"
      ]
    },
    {
      "cell_type": "code",
      "execution_count": 16,
      "metadata": {
        "id": "skSPkq5VC-5c"
      },
      "outputs": [],
      "source": [
        "from geopy.geocoders import Nominatim\n",
        "from pyspark.sql.functions import udf\n",
        "from pyspark.sql.types import StructType, StructField, DoubleType\n",
        "from scripts.preprocessor.global_processor import geocode_address\n",
        "\n",
        "geocode_udf = udf(\n",
        "            geocode_address,\n",
        "            returnType = StructType([\n",
        "    StructField(\"latitude\", DoubleType()),\n",
        "    StructField(\"longitude\",DoubleType())]))\n",
        "\n",
        "df = df.repartition(20) \n",
        "df = df.withColumn(\"longitude\", geocode_udf(\"location\").longitude)\n",
        "df = df.withColumn(\"latitude\", geocode_udf(\"location\").latitude)"
      ]
    },
    {
      "cell_type": "code",
      "execution_count": 17,
      "metadata": {
        "id": "uunC3PhpDbP0"
      },
      "outputs": [
        {
          "name": "stderr",
          "output_type": "stream",
          "text": [
            "Collecting fr-core-news-md==3.5.0                                   (0 + 1) / 1]\n",
            "  Using cached https://github.com/explosion/spacy-models/releases/download/fr_core_news_md-3.5.0/fr_core_news_md-3.5.0-py3-none-any.whl (45.8 MB)\n",
            "Requirement already satisfied: spacy<3.6.0,>=3.5.0 in /Users/luciegabagnou/opt/anaconda3/envs/scrap/lib/python3.9/site-packages (from fr-core-news-md==3.5.0) (3.5.0)\n",
            "Requirement already satisfied: packaging>=20.0 in /Users/luciegabagnou/opt/anaconda3/envs/scrap/lib/python3.9/site-packages (from spacy<3.6.0,>=3.5.0->fr-core-news-md==3.5.0) (23.0)\n",
            "Requirement already satisfied: srsly<3.0.0,>=2.4.3 in /Users/luciegabagnou/opt/anaconda3/envs/scrap/lib/python3.9/site-packages (from spacy<3.6.0,>=3.5.0->fr-core-news-md==3.5.0) (2.4.5)\n",
            "Requirement already satisfied: spacy-legacy<3.1.0,>=3.0.11 in /Users/luciegabagnou/opt/anaconda3/envs/scrap/lib/python3.9/site-packages (from spacy<3.6.0,>=3.5.0->fr-core-news-md==3.5.0) (3.0.12)\n",
            "Requirement already satisfied: pydantic!=1.8,!=1.8.1,<1.11.0,>=1.7.4 in /Users/luciegabagnou/opt/anaconda3/envs/scrap/lib/python3.9/site-packages (from spacy<3.6.0,>=3.5.0->fr-core-news-md==3.5.0) (1.10.4)\n",
            "Requirement already satisfied: wasabi<1.2.0,>=0.9.1 in /Users/luciegabagnou/opt/anaconda3/envs/scrap/lib/python3.9/site-packages (from spacy<3.6.0,>=3.5.0->fr-core-news-md==3.5.0) (1.1.1)\n",
            "Requirement already satisfied: numpy>=1.15.0 in /Users/luciegabagnou/opt/anaconda3/envs/scrap/lib/python3.9/site-packages (from spacy<3.6.0,>=3.5.0->fr-core-news-md==3.5.0) (1.23.5)\n",
            "Requirement already satisfied: requests<3.0.0,>=2.13.0 in /Users/luciegabagnou/opt/anaconda3/envs/scrap/lib/python3.9/site-packages (from spacy<3.6.0,>=3.5.0->fr-core-news-md==3.5.0) (2.28.2)\n",
            "Requirement already satisfied: jinja2 in /Users/luciegabagnou/opt/anaconda3/envs/scrap/lib/python3.9/site-packages (from spacy<3.6.0,>=3.5.0->fr-core-news-md==3.5.0) (3.1.2)\n",
            "Requirement already satisfied: thinc<8.2.0,>=8.1.0 in /Users/luciegabagnou/opt/anaconda3/envs/scrap/lib/python3.9/site-packages (from spacy<3.6.0,>=3.5.0->fr-core-news-md==3.5.0) (8.1.7)\n",
            "Requirement already satisfied: typer<0.8.0,>=0.3.0 in /Users/luciegabagnou/opt/anaconda3/envs/scrap/lib/python3.9/site-packages (from spacy<3.6.0,>=3.5.0->fr-core-news-md==3.5.0) (0.7.0)\n",
            "Requirement already satisfied: cymem<2.1.0,>=2.0.2 in /Users/luciegabagnou/opt/anaconda3/envs/scrap/lib/python3.9/site-packages (from spacy<3.6.0,>=3.5.0->fr-core-news-md==3.5.0) (2.0.7)\n",
            "Requirement already satisfied: setuptools in /Users/luciegabagnou/opt/anaconda3/envs/scrap/lib/python3.9/site-packages (from spacy<3.6.0,>=3.5.0->fr-core-news-md==3.5.0) (65.6.3)\n",
            "Requirement already satisfied: spacy-loggers<2.0.0,>=1.0.0 in /Users/luciegabagnou/opt/anaconda3/envs/scrap/lib/python3.9/site-packages (from spacy<3.6.0,>=3.5.0->fr-core-news-md==3.5.0) (1.0.4)\n",
            "Requirement already satisfied: tqdm<5.0.0,>=4.38.0 in /Users/luciegabagnou/opt/anaconda3/envs/scrap/lib/python3.9/site-packages (from spacy<3.6.0,>=3.5.0->fr-core-news-md==3.5.0) (4.64.1)\n",
            "Requirement already satisfied: langcodes<4.0.0,>=3.2.0 in /Users/luciegabagnou/opt/anaconda3/envs/scrap/lib/python3.9/site-packages (from spacy<3.6.0,>=3.5.0->fr-core-news-md==3.5.0) (3.3.0)\n",
            "Requirement already satisfied: murmurhash<1.1.0,>=0.28.0 in /Users/luciegabagnou/opt/anaconda3/envs/scrap/lib/python3.9/site-packages (from spacy<3.6.0,>=3.5.0->fr-core-news-md==3.5.0) (1.0.9)\n",
            "Requirement already satisfied: catalogue<2.1.0,>=2.0.6 in /Users/luciegabagnou/opt/anaconda3/envs/scrap/lib/python3.9/site-packages (from spacy<3.6.0,>=3.5.0->fr-core-news-md==3.5.0) (2.0.8)\n",
            "Requirement already satisfied: preshed<3.1.0,>=3.0.2 in /Users/luciegabagnou/opt/anaconda3/envs/scrap/lib/python3.9/site-packages (from spacy<3.6.0,>=3.5.0->fr-core-news-md==3.5.0) (3.0.8)\n",
            "Requirement already satisfied: smart-open<7.0.0,>=5.2.1 in /Users/luciegabagnou/opt/anaconda3/envs/scrap/lib/python3.9/site-packages (from spacy<3.6.0,>=3.5.0->fr-core-news-md==3.5.0) (6.3.0)\n",
            "Requirement already satisfied: pathy>=0.10.0 in /Users/luciegabagnou/opt/anaconda3/envs/scrap/lib/python3.9/site-packages (from spacy<3.6.0,>=3.5.0->fr-core-news-md==3.5.0) (0.10.1)\n",
            "Requirement already satisfied: typing-extensions>=4.2.0 in /Users/luciegabagnou/opt/anaconda3/envs/scrap/lib/python3.9/site-packages (from pydantic!=1.8,!=1.8.1,<1.11.0,>=1.7.4->spacy<3.6.0,>=3.5.0->fr-core-news-md==3.5.0) (4.4.0)\n",
            "Requirement already satisfied: charset-normalizer<4,>=2 in /Users/luciegabagnou/opt/anaconda3/envs/scrap/lib/python3.9/site-packages (from requests<3.0.0,>=2.13.0->spacy<3.6.0,>=3.5.0->fr-core-news-md==3.5.0) (3.0.1)\n",
            "Requirement already satisfied: idna<4,>=2.5 in /Users/luciegabagnou/opt/anaconda3/envs/scrap/lib/python3.9/site-packages (from requests<3.0.0,>=2.13.0->spacy<3.6.0,>=3.5.0->fr-core-news-md==3.5.0) (3.4)\n",
            "Requirement already satisfied: urllib3<1.27,>=1.21.1 in /Users/luciegabagnou/opt/anaconda3/envs/scrap/lib/python3.9/site-packages (from requests<3.0.0,>=2.13.0->spacy<3.6.0,>=3.5.0->fr-core-news-md==3.5.0) (1.26.14)\n",
            "Requirement already satisfied: certifi>=2017.4.17 in /Users/luciegabagnou/opt/anaconda3/envs/scrap/lib/python3.9/site-packages (from requests<3.0.0,>=2.13.0->spacy<3.6.0,>=3.5.0->fr-core-news-md==3.5.0) (2022.12.7)\n",
            "Requirement already satisfied: confection<1.0.0,>=0.0.1 in /Users/luciegabagnou/opt/anaconda3/envs/scrap/lib/python3.9/site-packages (from thinc<8.2.0,>=8.1.0->spacy<3.6.0,>=3.5.0->fr-core-news-md==3.5.0) (0.0.4)\n",
            "Requirement already satisfied: blis<0.8.0,>=0.7.8 in /Users/luciegabagnou/opt/anaconda3/envs/scrap/lib/python3.9/site-packages (from thinc<8.2.0,>=8.1.0->spacy<3.6.0,>=3.5.0->fr-core-news-md==3.5.0) (0.7.9)\n",
            "Requirement already satisfied: click<9.0.0,>=7.1.1 in /Users/luciegabagnou/opt/anaconda3/envs/scrap/lib/python3.9/site-packages (from typer<0.8.0,>=0.3.0->spacy<3.6.0,>=3.5.0->fr-core-news-md==3.5.0) (8.1.3)\n",
            "Requirement already satisfied: MarkupSafe>=2.0 in /Users/luciegabagnou/opt/anaconda3/envs/scrap/lib/python3.9/site-packages (from jinja2->spacy<3.6.0,>=3.5.0->fr-core-news-md==3.5.0) (2.1.2)\n",
            "\u001b[38;5;2m✔ Download and installation successful\u001b[0m\n",
            "You can now load the package via spacy.load('fr_core_news_md')\n",
            "[nltk_data] Downloading package stopwords to\n",
            "[nltk_data]     /Users/luciegabagnou/nltk_data...\n",
            "[nltk_data]   Package stopwords is already up-to-date!\n",
            "[nltk_data] Downloading package punkt to\n",
            "[nltk_data]     /Users/luciegabagnou/nltk_data...\n",
            "[nltk_data]   Package punkt is already up-to-date!\n",
            "[nltk_data] Downloading package wordnet to\n",
            "[nltk_data]     /Users/luciegabagnou/nltk_data...\n",
            "[nltk_data]   Package wordnet is already up-to-date!\n",
            "[Stage 5:>                                                          (0 + 1) / 1]\r"
          ]
        },
        {
          "name": "stdout",
          "output_type": "stream",
          "text": [
            "+------------+--------------------+--------------------+--------------+-------+--------------------+--------------------+--------+--------------------+-----------------+-----------+\n",
            "|average_note|            location|                name|number_reviews|ranking|             reviews|                 url|   price|             cuisine|        longitude|   latitude|\n",
            "+------------+--------------------+--------------------+--------------+-------+--------------------+--------------------+--------+--------------------+-----------------+-----------+\n",
            "|        null|14 Rue Saint-Marc...|Domino's Pizza Pa...|           0.0|   null|                  []|https://www.tripa...|     [€]|         [Française]|        2.3406323| 48.8704412|\n",
            "|         5.0|54 rue Piat, 7502...|  God Bless Broccoli|          29.0| 4346.0|[Déjeuner:Nous av...|https://www.tripa...|[€€-€€€]|[Italienne, Pizza...|        2.3836598| 48.8731146|\n",
            "|         2.5|55 57 Cours Saint...|               Kaori|         155.0|13813.0|[A la chaîne, per...|https://www.tripa...|[€€-€€€]|[Japonaise, Asiat...|             null|       null|\n",
            "|        null|53 Rue de la Font...|           Allo Cobi|           0.0|   null|                  []|https://www.tripa...|      []|                  []|        2.3736979| 48.8682224|\n",
            "|         4.0|8 Rue de Nevers, ...|      The Highlander|         100.0|   53.0|[Décevant:On retr...|https://www.tripa...|[€€-€€€]|[Bar à bières, Pu...|         2.339766| 48.8559771|\n",
            "|         4.0|Port de Suffren, ...|    Bal de la Marine|          61.0| 4115.0|[Vue imprenable !...|https://www.tripa...|     [€]|         [Française]|2.289738390878315|48.85719365|\n",
            "|         4.0|34 rue de l Arcad...|              Parm's|           3.0|11467.0|[Jamais déçue:Nou...|https://www.tripa...|      []|                  []|        2.3242093| 48.8729299|\n",
            "|         4.0|90 avenue Parment...|        Plein Soleil|         254.0|  209.0|[Une binne alterb...|https://www.tripa...|[€€-€€€]|[Française, Bar, ...|        2.3778135| 48.8611455|\n",
            "|         4.5|103 Boulevard du ...|Mam Son Ca phe & ...|          35.0|  127.0|[Délicieuse surpr...|https://www.tripa...|[€€-€€€]|[Bar, Asiatique, ...|        2.3263745| 48.8430521|\n",
            "|         4.5|2 Rue Buffault, 7...|         Kim’s Spoon|          31.0|   66.0|[Génial:Super bon...|https://www.tripa...|[€€-€€€]|[Barbecue/Grillad...|         2.341508| 48.8748699|\n",
            "|         4.5|9 rue Soufflot, 7...|             Papilla|          54.0| 3140.0|[Agréable et déli...|https://www.tripa...|      []|  [Italienne, Pizza]|        2.3430121| 48.8467307|\n",
            "|         3.0|1 rue Gay Lussac,...|Le Cercle Luxembourg|         257.0| 9527.0|[Une restauration...|https://www.tripa...|[€€-€€€]|[Française, Europ...|        2.3409031| 48.8469563|\n",
            "|         4.5|28 av de la Porte...|           L' Affamé|          70.0| 3906.0|[Très bon restaur...|https://www.tripa...|[€€-€€€]|[Française, Europ...|        2.3525285| 48.8994199|\n",
            "|         4.0|23 boulevard des ...|      Opera Mandarin|         322.0| 2472.0|[Cette adresse ca...|https://www.tripa...|[€€-€€€]|[Chinoise, Asiati...|        2.3311821| 48.8702956|\n",
            "|         4.0|99 avenue des Ter...|    Le Boeuf Maillot|         244.0| 1515.0|[resto sympa:bonn...|https://www.tripa...|[€€-€€€]|[Française, Europ...|        2.2857204| 48.8804351|\n",
            "|         4.5|10 rue Toullier, ...|  Festival Des Pates|          22.0| 1078.0|[excellent !! all...|https://www.tripa...|     [€]|[Chinoise, Asiati...|        2.3428797| 48.8471349|\n",
            "|         5.0|47 Rue de la Gait...|    Big Flame Burger|           3.0| 9531.0|[Sacrément bon:Ce...|https://www.tripa...|      []|                  []|             null|       null|\n",
            "|         4.0|2 Rue Viarmes, 75...| La Halle Aux Grains|         104.0| 4051.0|[Un sans faute !:...|https://www.tripa...|      []|[Française, Moderne]|             null|       null|\n",
            "|         3.5|4 Place Tattegrai...|         Le Flandrin|         342.0| 4055.0|[Belle découverte...|https://www.tripa...|  [€€€€]|[Française, Europ...|        2.2723714| 48.8640876|\n",
            "|         4.5|4 B Place du Mare...|Couleurs Cafe - L...|           2.0|12235.0|[le rendez vous d...|https://www.tripa...|     [€]|                  []|        2.2979171| 48.8849997|\n",
            "+------------+--------------------+--------------------+--------------+-------+--------------------+--------------------+--------+--------------------+-----------------+-----------+\n",
            "only showing top 20 rows\n",
            "\n"
          ]
        },
        {
          "name": "stderr",
          "output_type": "stream",
          "text": [
            "                                                                                \r"
          ]
        }
      ],
      "source": [
        " \n",
        "df.show()"
      ]
    },
    {
      "cell_type": "markdown",
      "metadata": {
        "id": "ZYc6hi_zdhhl"
      },
      "source": [
        "##### Commentaires"
      ]
    },
    {
      "cell_type": "code",
      "execution_count": 18,
      "metadata": {
        "id": "-F3tCfozkPuI"
      },
      "outputs": [
        {
          "name": "stdout",
          "output_type": "stream",
          "text": [
            "Collecting fr-core-news-md==3.5.0\n",
            "  Using cached https://github.com/explosion/spacy-models/releases/download/fr_core_news_md-3.5.0/fr_core_news_md-3.5.0-py3-none-any.whl (45.8 MB)\n",
            "Requirement already satisfied: spacy<3.6.0,>=3.5.0 in /Users/luciegabagnou/opt/anaconda3/envs/scrap/lib/python3.9/site-packages (from fr-core-news-md==3.5.0) (3.5.0)\n",
            "Requirement already satisfied: smart-open<7.0.0,>=5.2.1 in /Users/luciegabagnou/opt/anaconda3/envs/scrap/lib/python3.9/site-packages (from spacy<3.6.0,>=3.5.0->fr-core-news-md==3.5.0) (6.3.0)\n",
            "Requirement already satisfied: murmurhash<1.1.0,>=0.28.0 in /Users/luciegabagnou/opt/anaconda3/envs/scrap/lib/python3.9/site-packages (from spacy<3.6.0,>=3.5.0->fr-core-news-md==3.5.0) (1.0.9)\n",
            "Requirement already satisfied: preshed<3.1.0,>=3.0.2 in /Users/luciegabagnou/opt/anaconda3/envs/scrap/lib/python3.9/site-packages (from spacy<3.6.0,>=3.5.0->fr-core-news-md==3.5.0) (3.0.8)\n",
            "Requirement already satisfied: langcodes<4.0.0,>=3.2.0 in /Users/luciegabagnou/opt/anaconda3/envs/scrap/lib/python3.9/site-packages (from spacy<3.6.0,>=3.5.0->fr-core-news-md==3.5.0) (3.3.0)\n",
            "Requirement already satisfied: catalogue<2.1.0,>=2.0.6 in /Users/luciegabagnou/opt/anaconda3/envs/scrap/lib/python3.9/site-packages (from spacy<3.6.0,>=3.5.0->fr-core-news-md==3.5.0) (2.0.8)\n",
            "Requirement already satisfied: spacy-legacy<3.1.0,>=3.0.11 in /Users/luciegabagnou/opt/anaconda3/envs/scrap/lib/python3.9/site-packages (from spacy<3.6.0,>=3.5.0->fr-core-news-md==3.5.0) (3.0.12)\n",
            "Requirement already satisfied: requests<3.0.0,>=2.13.0 in /Users/luciegabagnou/opt/anaconda3/envs/scrap/lib/python3.9/site-packages (from spacy<3.6.0,>=3.5.0->fr-core-news-md==3.5.0) (2.28.2)\n",
            "Requirement already satisfied: pathy>=0.10.0 in /Users/luciegabagnou/opt/anaconda3/envs/scrap/lib/python3.9/site-packages (from spacy<3.6.0,>=3.5.0->fr-core-news-md==3.5.0) (0.10.1)\n",
            "Requirement already satisfied: cymem<2.1.0,>=2.0.2 in /Users/luciegabagnou/opt/anaconda3/envs/scrap/lib/python3.9/site-packages (from spacy<3.6.0,>=3.5.0->fr-core-news-md==3.5.0) (2.0.7)\n",
            "Requirement already satisfied: numpy>=1.15.0 in /Users/luciegabagnou/opt/anaconda3/envs/scrap/lib/python3.9/site-packages (from spacy<3.6.0,>=3.5.0->fr-core-news-md==3.5.0) (1.23.5)\n",
            "Requirement already satisfied: setuptools in /Users/luciegabagnou/opt/anaconda3/envs/scrap/lib/python3.9/site-packages (from spacy<3.6.0,>=3.5.0->fr-core-news-md==3.5.0) (65.6.3)\n",
            "Requirement already satisfied: wasabi<1.2.0,>=0.9.1 in /Users/luciegabagnou/opt/anaconda3/envs/scrap/lib/python3.9/site-packages (from spacy<3.6.0,>=3.5.0->fr-core-news-md==3.5.0) (1.1.1)\n",
            "Requirement already satisfied: jinja2 in /Users/luciegabagnou/opt/anaconda3/envs/scrap/lib/python3.9/site-packages (from spacy<3.6.0,>=3.5.0->fr-core-news-md==3.5.0) (3.1.2)\n",
            "Requirement already satisfied: packaging>=20.0 in /Users/luciegabagnou/opt/anaconda3/envs/scrap/lib/python3.9/site-packages (from spacy<3.6.0,>=3.5.0->fr-core-news-md==3.5.0) (23.0)\n",
            "Requirement already satisfied: typer<0.8.0,>=0.3.0 in /Users/luciegabagnou/opt/anaconda3/envs/scrap/lib/python3.9/site-packages (from spacy<3.6.0,>=3.5.0->fr-core-news-md==3.5.0) (0.7.0)\n",
            "Requirement already satisfied: spacy-loggers<2.0.0,>=1.0.0 in /Users/luciegabagnou/opt/anaconda3/envs/scrap/lib/python3.9/site-packages (from spacy<3.6.0,>=3.5.0->fr-core-news-md==3.5.0) (1.0.4)\n",
            "Requirement already satisfied: tqdm<5.0.0,>=4.38.0 in /Users/luciegabagnou/opt/anaconda3/envs/scrap/lib/python3.9/site-packages (from spacy<3.6.0,>=3.5.0->fr-core-news-md==3.5.0) (4.64.1)\n",
            "Requirement already satisfied: thinc<8.2.0,>=8.1.0 in /Users/luciegabagnou/opt/anaconda3/envs/scrap/lib/python3.9/site-packages (from spacy<3.6.0,>=3.5.0->fr-core-news-md==3.5.0) (8.1.7)\n",
            "Requirement already satisfied: srsly<3.0.0,>=2.4.3 in /Users/luciegabagnou/opt/anaconda3/envs/scrap/lib/python3.9/site-packages (from spacy<3.6.0,>=3.5.0->fr-core-news-md==3.5.0) (2.4.5)\n",
            "Requirement already satisfied: pydantic!=1.8,!=1.8.1,<1.11.0,>=1.7.4 in /Users/luciegabagnou/opt/anaconda3/envs/scrap/lib/python3.9/site-packages (from spacy<3.6.0,>=3.5.0->fr-core-news-md==3.5.0) (1.10.4)\n",
            "Requirement already satisfied: typing-extensions>=4.2.0 in /Users/luciegabagnou/opt/anaconda3/envs/scrap/lib/python3.9/site-packages (from pydantic!=1.8,!=1.8.1,<1.11.0,>=1.7.4->spacy<3.6.0,>=3.5.0->fr-core-news-md==3.5.0) (4.4.0)\n",
            "Requirement already satisfied: certifi>=2017.4.17 in /Users/luciegabagnou/opt/anaconda3/envs/scrap/lib/python3.9/site-packages (from requests<3.0.0,>=2.13.0->spacy<3.6.0,>=3.5.0->fr-core-news-md==3.5.0) (2022.12.7)\n",
            "Requirement already satisfied: urllib3<1.27,>=1.21.1 in /Users/luciegabagnou/opt/anaconda3/envs/scrap/lib/python3.9/site-packages (from requests<3.0.0,>=2.13.0->spacy<3.6.0,>=3.5.0->fr-core-news-md==3.5.0) (1.26.14)\n",
            "Requirement already satisfied: charset-normalizer<4,>=2 in /Users/luciegabagnou/opt/anaconda3/envs/scrap/lib/python3.9/site-packages (from requests<3.0.0,>=2.13.0->spacy<3.6.0,>=3.5.0->fr-core-news-md==3.5.0) (3.0.1)\n",
            "Requirement already satisfied: idna<4,>=2.5 in /Users/luciegabagnou/opt/anaconda3/envs/scrap/lib/python3.9/site-packages (from requests<3.0.0,>=2.13.0->spacy<3.6.0,>=3.5.0->fr-core-news-md==3.5.0) (3.4)\n",
            "Requirement already satisfied: blis<0.8.0,>=0.7.8 in /Users/luciegabagnou/opt/anaconda3/envs/scrap/lib/python3.9/site-packages (from thinc<8.2.0,>=8.1.0->spacy<3.6.0,>=3.5.0->fr-core-news-md==3.5.0) (0.7.9)\n",
            "Requirement already satisfied: confection<1.0.0,>=0.0.1 in /Users/luciegabagnou/opt/anaconda3/envs/scrap/lib/python3.9/site-packages (from thinc<8.2.0,>=8.1.0->spacy<3.6.0,>=3.5.0->fr-core-news-md==3.5.0) (0.0.4)\n",
            "Requirement already satisfied: click<9.0.0,>=7.1.1 in /Users/luciegabagnou/opt/anaconda3/envs/scrap/lib/python3.9/site-packages (from typer<0.8.0,>=0.3.0->spacy<3.6.0,>=3.5.0->fr-core-news-md==3.5.0) (8.1.3)\n",
            "Requirement already satisfied: MarkupSafe>=2.0 in /Users/luciegabagnou/opt/anaconda3/envs/scrap/lib/python3.9/site-packages (from jinja2->spacy<3.6.0,>=3.5.0->fr-core-news-md==3.5.0) (2.1.2)\n",
            "\u001b[38;5;2m✔ Download and installation successful\u001b[0m\n",
            "You can now load the package via spacy.load('fr_core_news_md')\n"
          ]
        }
      ],
      "source": [
        "!python -m spacy download fr_core_news_md"
      ]
    },
    {
      "cell_type": "code",
      "execution_count": 19,
      "metadata": {
        "id": "xbVlECP6h5dH"
      },
      "outputs": [],
      "source": [
        "import nltk\n",
        "import re\n",
        "import spacy\n",
        "from unidecode import unidecode\n",
        "from nltk.corpus import stopwords\n",
        "import spacy\n"
      ]
    },
    {
      "cell_type": "code",
      "execution_count": 20,
      "metadata": {
        "id": "ypbCPOyTiFvt"
      },
      "outputs": [],
      "source": [
        "from scripts.preprocessor.text_processor import clean_text_sentiment_analysis"
      ]
    },
    {
      "cell_type": "code",
      "execution_count": 21,
      "metadata": {
        "id": "YDhSp_oYivGi"
      },
      "outputs": [],
      "source": [
        "udf_text_cleaning = udf(clean_text_sentiment_analysis, StructType([\n",
        "    StructField(\"reviews\", ArrayType(StringType())),\n",
        "    StructField(\"ratings\", ArrayType(StringType()))]))\n",
        "\n",
        "\n",
        "df=df.withColumn(\"clean_reviews\", udf_text_cleaning(\"reviews\").reviews)\n",
        "df=df.withColumn(\"ratings\", udf_text_cleaning(\"reviews\").ratings)"
      ]
    },
    {
      "cell_type": "code",
      "execution_count": 22,
      "metadata": {},
      "outputs": [
        {
          "name": "stderr",
          "output_type": "stream",
          "text": [
            "Collecting fr-core-news-md==3.5.0                                   (0 + 1) / 1]\n",
            "  Using cached https://github.com/explosion/spacy-models/releases/download/fr_core_news_md-3.5.0/fr_core_news_md-3.5.0-py3-none-any.whl (45.8 MB)\n",
            "Requirement already satisfied: spacy<3.6.0,>=3.5.0 in /Users/luciegabagnou/opt/anaconda3/envs/scrap/lib/python3.9/site-packages (from fr-core-news-md==3.5.0) (3.5.0)\n",
            "Requirement already satisfied: tqdm<5.0.0,>=4.38.0 in /Users/luciegabagnou/opt/anaconda3/envs/scrap/lib/python3.9/site-packages (from spacy<3.6.0,>=3.5.0->fr-core-news-md==3.5.0) (4.64.1)\n",
            "Requirement already satisfied: wasabi<1.2.0,>=0.9.1 in /Users/luciegabagnou/opt/anaconda3/envs/scrap/lib/python3.9/site-packages (from spacy<3.6.0,>=3.5.0->fr-core-news-md==3.5.0) (1.1.1)\n",
            "Requirement already satisfied: spacy-legacy<3.1.0,>=3.0.11 in /Users/luciegabagnou/opt/anaconda3/envs/scrap/lib/python3.9/site-packages (from spacy<3.6.0,>=3.5.0->fr-core-news-md==3.5.0) (3.0.12)\n",
            "Requirement already satisfied: preshed<3.1.0,>=3.0.2 in /Users/luciegabagnou/opt/anaconda3/envs/scrap/lib/python3.9/site-packages (from spacy<3.6.0,>=3.5.0->fr-core-news-md==3.5.0) (3.0.8)\n",
            "Requirement already satisfied: typer<0.8.0,>=0.3.0 in /Users/luciegabagnou/opt/anaconda3/envs/scrap/lib/python3.9/site-packages (from spacy<3.6.0,>=3.5.0->fr-core-news-md==3.5.0) (0.7.0)\n",
            "Requirement already satisfied: requests<3.0.0,>=2.13.0 in /Users/luciegabagnou/opt/anaconda3/envs/scrap/lib/python3.9/site-packages (from spacy<3.6.0,>=3.5.0->fr-core-news-md==3.5.0) (2.28.2)\n",
            "Requirement already satisfied: numpy>=1.15.0 in /Users/luciegabagnou/opt/anaconda3/envs/scrap/lib/python3.9/site-packages (from spacy<3.6.0,>=3.5.0->fr-core-news-md==3.5.0) (1.23.5)\n",
            "Requirement already satisfied: packaging>=20.0 in /Users/luciegabagnou/opt/anaconda3/envs/scrap/lib/python3.9/site-packages (from spacy<3.6.0,>=3.5.0->fr-core-news-md==3.5.0) (23.0)\n",
            "Requirement already satisfied: thinc<8.2.0,>=8.1.0 in /Users/luciegabagnou/opt/anaconda3/envs/scrap/lib/python3.9/site-packages (from spacy<3.6.0,>=3.5.0->fr-core-news-md==3.5.0) (8.1.7)\n",
            "Requirement already satisfied: murmurhash<1.1.0,>=0.28.0 in /Users/luciegabagnou/opt/anaconda3/envs/scrap/lib/python3.9/site-packages (from spacy<3.6.0,>=3.5.0->fr-core-news-md==3.5.0) (1.0.9)\n",
            "Requirement already satisfied: pydantic!=1.8,!=1.8.1,<1.11.0,>=1.7.4 in /Users/luciegabagnou/opt/anaconda3/envs/scrap/lib/python3.9/site-packages (from spacy<3.6.0,>=3.5.0->fr-core-news-md==3.5.0) (1.10.4)\n",
            "Requirement already satisfied: catalogue<2.1.0,>=2.0.6 in /Users/luciegabagnou/opt/anaconda3/envs/scrap/lib/python3.9/site-packages (from spacy<3.6.0,>=3.5.0->fr-core-news-md==3.5.0) (2.0.8)\n",
            "Requirement already satisfied: langcodes<4.0.0,>=3.2.0 in /Users/luciegabagnou/opt/anaconda3/envs/scrap/lib/python3.9/site-packages (from spacy<3.6.0,>=3.5.0->fr-core-news-md==3.5.0) (3.3.0)\n",
            "Requirement already satisfied: spacy-loggers<2.0.0,>=1.0.0 in /Users/luciegabagnou/opt/anaconda3/envs/scrap/lib/python3.9/site-packages (from spacy<3.6.0,>=3.5.0->fr-core-news-md==3.5.0) (1.0.4)\n",
            "Requirement already satisfied: jinja2 in /Users/luciegabagnou/opt/anaconda3/envs/scrap/lib/python3.9/site-packages (from spacy<3.6.0,>=3.5.0->fr-core-news-md==3.5.0) (3.1.2)\n",
            "Requirement already satisfied: smart-open<7.0.0,>=5.2.1 in /Users/luciegabagnou/opt/anaconda3/envs/scrap/lib/python3.9/site-packages (from spacy<3.6.0,>=3.5.0->fr-core-news-md==3.5.0) (6.3.0)\n",
            "Requirement already satisfied: pathy>=0.10.0 in /Users/luciegabagnou/opt/anaconda3/envs/scrap/lib/python3.9/site-packages (from spacy<3.6.0,>=3.5.0->fr-core-news-md==3.5.0) (0.10.1)\n",
            "Requirement already satisfied: cymem<2.1.0,>=2.0.2 in /Users/luciegabagnou/opt/anaconda3/envs/scrap/lib/python3.9/site-packages (from spacy<3.6.0,>=3.5.0->fr-core-news-md==3.5.0) (2.0.7)\n",
            "Requirement already satisfied: setuptools in /Users/luciegabagnou/opt/anaconda3/envs/scrap/lib/python3.9/site-packages (from spacy<3.6.0,>=3.5.0->fr-core-news-md==3.5.0) (65.6.3)\n",
            "Requirement already satisfied: srsly<3.0.0,>=2.4.3 in /Users/luciegabagnou/opt/anaconda3/envs/scrap/lib/python3.9/site-packages (from spacy<3.6.0,>=3.5.0->fr-core-news-md==3.5.0) (2.4.5)\n",
            "Requirement already satisfied: typing-extensions>=4.2.0 in /Users/luciegabagnou/opt/anaconda3/envs/scrap/lib/python3.9/site-packages (from pydantic!=1.8,!=1.8.1,<1.11.0,>=1.7.4->spacy<3.6.0,>=3.5.0->fr-core-news-md==3.5.0) (4.4.0)\n",
            "Requirement already satisfied: urllib3<1.27,>=1.21.1 in /Users/luciegabagnou/opt/anaconda3/envs/scrap/lib/python3.9/site-packages (from requests<3.0.0,>=2.13.0->spacy<3.6.0,>=3.5.0->fr-core-news-md==3.5.0) (1.26.14)\n",
            "Requirement already satisfied: charset-normalizer<4,>=2 in /Users/luciegabagnou/opt/anaconda3/envs/scrap/lib/python3.9/site-packages (from requests<3.0.0,>=2.13.0->spacy<3.6.0,>=3.5.0->fr-core-news-md==3.5.0) (3.0.1)\n",
            "Requirement already satisfied: certifi>=2017.4.17 in /Users/luciegabagnou/opt/anaconda3/envs/scrap/lib/python3.9/site-packages (from requests<3.0.0,>=2.13.0->spacy<3.6.0,>=3.5.0->fr-core-news-md==3.5.0) (2022.12.7)\n",
            "Requirement already satisfied: idna<4,>=2.5 in /Users/luciegabagnou/opt/anaconda3/envs/scrap/lib/python3.9/site-packages (from requests<3.0.0,>=2.13.0->spacy<3.6.0,>=3.5.0->fr-core-news-md==3.5.0) (3.4)\n",
            "Requirement already satisfied: confection<1.0.0,>=0.0.1 in /Users/luciegabagnou/opt/anaconda3/envs/scrap/lib/python3.9/site-packages (from thinc<8.2.0,>=8.1.0->spacy<3.6.0,>=3.5.0->fr-core-news-md==3.5.0) (0.0.4)\n",
            "Requirement already satisfied: blis<0.8.0,>=0.7.8 in /Users/luciegabagnou/opt/anaconda3/envs/scrap/lib/python3.9/site-packages (from thinc<8.2.0,>=8.1.0->spacy<3.6.0,>=3.5.0->fr-core-news-md==3.5.0) (0.7.9)\n",
            "Requirement already satisfied: click<9.0.0,>=7.1.1 in /Users/luciegabagnou/opt/anaconda3/envs/scrap/lib/python3.9/site-packages (from typer<0.8.0,>=0.3.0->spacy<3.6.0,>=3.5.0->fr-core-news-md==3.5.0) (8.1.3)\n",
            "Requirement already satisfied: MarkupSafe>=2.0 in /Users/luciegabagnou/opt/anaconda3/envs/scrap/lib/python3.9/site-packages (from jinja2->spacy<3.6.0,>=3.5.0->fr-core-news-md==3.5.0) (2.1.2)\n",
            "\u001b[38;5;2m✔ Download and installation successful\u001b[0m\n",
            "You can now load the package via spacy.load('fr_core_news_md')\n",
            "[nltk_data] Downloading package stopwords to\n",
            "[nltk_data]     /Users/luciegabagnou/nltk_data...\n",
            "[nltk_data]   Package stopwords is already up-to-date!\n",
            "[nltk_data] Downloading package punkt to\n",
            "[nltk_data]     /Users/luciegabagnou/nltk_data...\n",
            "[nltk_data]   Package punkt is already up-to-date!\n",
            "[nltk_data] Downloading package wordnet to\n",
            "[nltk_data]     /Users/luciegabagnou/nltk_data...\n",
            "[nltk_data]   Package wordnet is already up-to-date!\n",
            "[Stage 8:>                                                          (0 + 1) / 1]\r"
          ]
        },
        {
          "name": "stdout",
          "output_type": "stream",
          "text": [
            "+------------+--------------------+--------------------+--------------+-------+--------------------+--------------------+--------+--------------------+-----------------+-----------+--------------------+--------------------+\n",
            "|average_note|            location|                name|number_reviews|ranking|             reviews|                 url|   price|             cuisine|        longitude|   latitude|       clean_reviews|             ratings|\n",
            "+------------+--------------------+--------------------+--------------+-------+--------------------+--------------------+--------+--------------------+-----------------+-----------+--------------------+--------------------+\n",
            "|        null|14 Rue Saint-Marc...|Domino's Pizza Pa...|           0.0|   null|                  []|https://www.tripa...|     [€]|         [Française]|        2.3406323| 48.8704412|                  []|                  []|\n",
            "|         5.0|54 rue Piat, 7502...|  God Bless Broccoli|          29.0| 4346.0|[Déjeuner:Nous av...|https://www.tripa...|[€€-€€€]|[Italienne, Pizza...|        2.3836598| 48.8731146|[[dejeuner manger...|[[5.0], [4.0], [5...|\n",
            "|         2.5|55 57 Cours Saint...|               Kaori|         155.0|13813.0|[A la chaîne, per...|https://www.tripa...|[€€-€€€]|[Japonaise, Asiat...|             null|       null|[[chaine personne...|[[2.0], [1.0], [1...|\n",
            "|        null|53 Rue de la Font...|           Allo Cobi|           0.0|   null|                  []|https://www.tripa...|      []|                  []|        2.3736979| 48.8682224|                  []|                  []|\n",
            "|         4.0|8 Rue de Nevers, ...|      The Highlander|         100.0|   53.0|[Décevant:On retr...|https://www.tripa...|[€€-€€€]|[Bar à bières, Pu...|         2.339766| 48.8559771|[[decever retrouv...|[[2.0], [5.0], [1...|\n",
            "|         4.0|Port de Suffren, ...|    Bal de la Marine|          61.0| 4115.0|[Vue imprenable !...|https://www.tripa...|     [€]|         [Française]|2.289738390878315|48.85719365|[[vue imprenable ...|[[5.0], [1.0], [1...|\n",
            "|         4.0|34 rue de l Arcad...|              Parm's|           3.0|11467.0|[Jamais déçue:Nou...|https://www.tripa...|      []|                  []|        2.3242093| 48.8729299|[[jamais  venir r...|[[5.0], [3.0], [4...|\n",
            "|         4.0|90 avenue Parment...|        Plein Soleil|         254.0|  209.0|[Une binne alterb...|https://www.tripa...|[€€-€€€]|[Française, Bar, ...|        2.3778135| 48.8611455|[[binne alterbati...|[[4.0], [5.0], [5...|\n",
            "|         4.5|103 Boulevard du ...|Mam Son Ca phe & ...|          35.0|  127.0|[Délicieuse surpr...|https://www.tripa...|[€€-€€€]|[Bar, Asiatique, ...|        2.3263745| 48.8430521|[[delicieus surpr...|[[5.0], [5.0], [5...|\n",
            "|         4.5|2 Rue Buffault, 7...|         Kim’s Spoon|          31.0|   66.0|[Génial:Super bon...|https://www.tripa...|[€€-€€€]|[Barbecue/Grillad...|         2.341508| 48.8748699|[[genial  gerant ...|[[5.0], [5.0], [5...|\n",
            "|         4.5|9 rue Soufflot, 7...|             Papilla|          54.0| 3140.0|[Agréable et déli...|https://www.tripa...|      []|  [Italienne, Pizza]|        2.3430121| 48.8467307|[[agreabl delicie...|[[5.0], [5.0], [5...|\n",
            "|         3.0|1 rue Gay Lussac,...|Le Cercle Luxembourg|         257.0| 9527.0|[Une restauration...|https://www.tripa...|[€€-€€€]|[Française, Europ...|        2.3409031| 48.8469563|[[restauration ty...|[[2.0], [5.0], [5...|\n",
            "|         4.5|28 av de la Porte...|           L' Affamé|          70.0| 3906.0|[Très bon restaur...|https://www.tripa...|[€€-€€€]|[Française, Europ...|        2.3525285| 48.8994199|[[bon restaurant ...|[[4.0], [1.0], [5...|\n",
            "|         4.0|23 boulevard des ...|      Opera Mandarin|         322.0| 2472.0|[Cette adresse ca...|https://www.tripa...|[€€-€€€]|[Chinoise, Asiati...|        2.3311821| 48.8702956|[[adresse cachee ...|[[5.0], [5.0], [5...|\n",
            "|         4.0|99 avenue des Ter...|    Le Boeuf Maillot|         244.0| 1515.0|[resto sympa:bonn...|https://www.tripa...|[€€-€€€]|[Française, Europ...|        2.2857204| 48.8804351|[[restaurant symp...|[[5.0], [3.0], [1...|\n",
            "|         4.5|10 rue Toullier, ...|  Festival Des Pates|          22.0| 1078.0|[excellent !! all...|https://www.tripa...|     [€]|[Chinoise, Asiati...|        2.3428797| 48.8471349|[[excellent aller...|[[5.0], [4.0], [4...|\n",
            "|         5.0|47 Rue de la Gait...|    Big Flame Burger|           3.0| 9531.0|[Sacrément bon:Ce...|https://www.tripa...|      []|                  []|             null|       null|[[sacrement bon c...|[[5.0], [5.0], [5...|\n",
            "|         4.0|2 Rue Viarmes, 75...| La Halle Aux Grains|         104.0| 4051.0|[Un sans faute !:...|https://www.tripa...|      []|[Française, Moderne]|             null|       null|[[faute parfait a...|[[5.0], [2.0], [5...|\n",
            "|         3.5|4 Place Tattegrai...|         Le Flandrin|         342.0| 4055.0|[Belle découverte...|https://www.tripa...|  [€€€€]|[Française, Europ...|        2.2723714| 48.8640876|[[bel decouverte ...|[[5.0], [1.0], [3...|\n",
            "|         4.5|4 B Place du Mare...|Couleurs Cafe - L...|           2.0|12235.0|[le rendez vous d...|https://www.tripa...|     [€]|                  []|        2.2979171| 48.8849997|[[rendez intellec...|             [[5.0]]|\n",
            "+------------+--------------------+--------------------+--------------+-------+--------------------+--------------------+--------+--------------------+-----------------+-----------+--------------------+--------------------+\n",
            "only showing top 20 rows\n",
            "\n"
          ]
        },
        {
          "name": "stderr",
          "output_type": "stream",
          "text": [
            "                                                                                \r"
          ]
        }
      ],
      "source": [
        "df.show()"
      ]
    },
    {
      "cell_type": "code",
      "execution_count": 23,
      "metadata": {
        "id": "6z7vu6LyOrlK"
      },
      "outputs": [
        {
          "name": "stderr",
          "output_type": "stream",
          "text": [
            "Collecting fr-core-news-md==3.5.0                                   (0 + 1) / 1]\n",
            "  Downloading https://github.com/explosion/spacy-models/releases/download/fr_core_news_md-3.5.0/fr_core_news_md-3.5.0-py3-none-any.whl (45.8 MB)\n",
            "     ━━━━━━━━━━━━━━━━━━━━━━━━━━━━━━━━━━━━━━━━ 45.8/45.8 MB 4.3 MB/s eta 0:00:00\n",
            "Requirement already satisfied: spacy<3.6.0,>=3.5.0 in /Users/luciegabagnou/opt/anaconda3/envs/scrap/lib/python3.9/site-packages (from fr-core-news-md==3.5.0) (3.5.0)\n",
            "Requirement already satisfied: smart-open<7.0.0,>=5.2.1 in /Users/luciegabagnou/opt/anaconda3/envs/scrap/lib/python3.9/site-packages (from spacy<3.6.0,>=3.5.0->fr-core-news-md==3.5.0) (6.3.0)\n",
            "Requirement already satisfied: murmurhash<1.1.0,>=0.28.0 in /Users/luciegabagnou/opt/anaconda3/envs/scrap/lib/python3.9/site-packages (from spacy<3.6.0,>=3.5.0->fr-core-news-md==3.5.0) (1.0.9)\n",
            "Requirement already satisfied: requests<3.0.0,>=2.13.0 in /Users/luciegabagnou/opt/anaconda3/envs/scrap/lib/python3.9/site-packages (from spacy<3.6.0,>=3.5.0->fr-core-news-md==3.5.0) (2.28.2)\n",
            "Requirement already satisfied: thinc<8.2.0,>=8.1.0 in /Users/luciegabagnou/opt/anaconda3/envs/scrap/lib/python3.9/site-packages (from spacy<3.6.0,>=3.5.0->fr-core-news-md==3.5.0) (8.1.7)\n",
            "Requirement already satisfied: jinja2 in /Users/luciegabagnou/opt/anaconda3/envs/scrap/lib/python3.9/site-packages (from spacy<3.6.0,>=3.5.0->fr-core-news-md==3.5.0) (3.1.2)\n",
            "Requirement already satisfied: cymem<2.1.0,>=2.0.2 in /Users/luciegabagnou/opt/anaconda3/envs/scrap/lib/python3.9/site-packages (from spacy<3.6.0,>=3.5.0->fr-core-news-md==3.5.0) (2.0.7)\n",
            "Requirement already satisfied: tqdm<5.0.0,>=4.38.0 in /Users/luciegabagnou/opt/anaconda3/envs/scrap/lib/python3.9/site-packages (from spacy<3.6.0,>=3.5.0->fr-core-news-md==3.5.0) (4.64.1)\n",
            "Requirement already satisfied: pydantic!=1.8,!=1.8.1,<1.11.0,>=1.7.4 in /Users/luciegabagnou/opt/anaconda3/envs/scrap/lib/python3.9/site-packages (from spacy<3.6.0,>=3.5.0->fr-core-news-md==3.5.0) (1.10.4)\n",
            "Requirement already satisfied: langcodes<4.0.0,>=3.2.0 in /Users/luciegabagnou/opt/anaconda3/envs/scrap/lib/python3.9/site-packages (from spacy<3.6.0,>=3.5.0->fr-core-news-md==3.5.0) (3.3.0)\n",
            "Requirement already satisfied: spacy-loggers<2.0.0,>=1.0.0 in /Users/luciegabagnou/opt/anaconda3/envs/scrap/lib/python3.9/site-packages (from spacy<3.6.0,>=3.5.0->fr-core-news-md==3.5.0) (1.0.4)\n",
            "Requirement already satisfied: setuptools in /Users/luciegabagnou/opt/anaconda3/envs/scrap/lib/python3.9/site-packages (from spacy<3.6.0,>=3.5.0->fr-core-news-md==3.5.0) (65.6.3)\n",
            "Requirement already satisfied: pathy>=0.10.0 in /Users/luciegabagnou/opt/anaconda3/envs/scrap/lib/python3.9/site-packages (from spacy<3.6.0,>=3.5.0->fr-core-news-md==3.5.0) (0.10.1)\n",
            "Requirement already satisfied: packaging>=20.0 in /Users/luciegabagnou/opt/anaconda3/envs/scrap/lib/python3.9/site-packages (from spacy<3.6.0,>=3.5.0->fr-core-news-md==3.5.0) (23.0)\n",
            "Requirement already satisfied: srsly<3.0.0,>=2.4.3 in /Users/luciegabagnou/opt/anaconda3/envs/scrap/lib/python3.9/site-packages (from spacy<3.6.0,>=3.5.0->fr-core-news-md==3.5.0) (2.4.5)\n",
            "Requirement already satisfied: numpy>=1.15.0 in /Users/luciegabagnou/opt/anaconda3/envs/scrap/lib/python3.9/site-packages (from spacy<3.6.0,>=3.5.0->fr-core-news-md==3.5.0) (1.23.5)\n",
            "Requirement already satisfied: spacy-legacy<3.1.0,>=3.0.11 in /Users/luciegabagnou/opt/anaconda3/envs/scrap/lib/python3.9/site-packages (from spacy<3.6.0,>=3.5.0->fr-core-news-md==3.5.0) (3.0.12)\n",
            "Requirement already satisfied: preshed<3.1.0,>=3.0.2 in /Users/luciegabagnou/opt/anaconda3/envs/scrap/lib/python3.9/site-packages (from spacy<3.6.0,>=3.5.0->fr-core-news-md==3.5.0) (3.0.8)\n",
            "Requirement already satisfied: typer<0.8.0,>=0.3.0 in /Users/luciegabagnou/opt/anaconda3/envs/scrap/lib/python3.9/site-packages (from spacy<3.6.0,>=3.5.0->fr-core-news-md==3.5.0) (0.7.0)\n",
            "Requirement already satisfied: wasabi<1.2.0,>=0.9.1 in /Users/luciegabagnou/opt/anaconda3/envs/scrap/lib/python3.9/site-packages (from spacy<3.6.0,>=3.5.0->fr-core-news-md==3.5.0) (1.1.1)\n",
            "Requirement already satisfied: catalogue<2.1.0,>=2.0.6 in /Users/luciegabagnou/opt/anaconda3/envs/scrap/lib/python3.9/site-packages (from spacy<3.6.0,>=3.5.0->fr-core-news-md==3.5.0) (2.0.8)\n",
            "Requirement already satisfied: typing-extensions>=4.2.0 in /Users/luciegabagnou/opt/anaconda3/envs/scrap/lib/python3.9/site-packages (from pydantic!=1.8,!=1.8.1,<1.11.0,>=1.7.4->spacy<3.6.0,>=3.5.0->fr-core-news-md==3.5.0) (4.4.0)\n",
            "Requirement already satisfied: charset-normalizer<4,>=2 in /Users/luciegabagnou/opt/anaconda3/envs/scrap/lib/python3.9/site-packages (from requests<3.0.0,>=2.13.0->spacy<3.6.0,>=3.5.0->fr-core-news-md==3.5.0) (3.0.1)\n",
            "Requirement already satisfied: idna<4,>=2.5 in /Users/luciegabagnou/opt/anaconda3/envs/scrap/lib/python3.9/site-packages (from requests<3.0.0,>=2.13.0->spacy<3.6.0,>=3.5.0->fr-core-news-md==3.5.0) (3.4)\n",
            "Requirement already satisfied: urllib3<1.27,>=1.21.1 in /Users/luciegabagnou/opt/anaconda3/envs/scrap/lib/python3.9/site-packages (from requests<3.0.0,>=2.13.0->spacy<3.6.0,>=3.5.0->fr-core-news-md==3.5.0) (1.26.14)\n",
            "Requirement already satisfied: certifi>=2017.4.17 in /Users/luciegabagnou/opt/anaconda3/envs/scrap/lib/python3.9/site-packages (from requests<3.0.0,>=2.13.0->spacy<3.6.0,>=3.5.0->fr-core-news-md==3.5.0) (2022.12.7)\n",
            "Requirement already satisfied: confection<1.0.0,>=0.0.1 in /Users/luciegabagnou/opt/anaconda3/envs/scrap/lib/python3.9/site-packages (from thinc<8.2.0,>=8.1.0->spacy<3.6.0,>=3.5.0->fr-core-news-md==3.5.0) (0.0.4)\n",
            "Requirement already satisfied: blis<0.8.0,>=0.7.8 in /Users/luciegabagnou/opt/anaconda3/envs/scrap/lib/python3.9/site-packages (from thinc<8.2.0,>=8.1.0->spacy<3.6.0,>=3.5.0->fr-core-news-md==3.5.0) (0.7.9)\n",
            "Requirement already satisfied: click<9.0.0,>=7.1.1 in /Users/luciegabagnou/opt/anaconda3/envs/scrap/lib/python3.9/site-packages (from typer<0.8.0,>=0.3.0->spacy<3.6.0,>=3.5.0->fr-core-news-md==3.5.0) (8.1.3)\n",
            "Requirement already satisfied: MarkupSafe>=2.0 in /Users/luciegabagnou/opt/anaconda3/envs/scrap/lib/python3.9/site-packages (from jinja2->spacy<3.6.0,>=3.5.0->fr-core-news-md==3.5.0) (2.1.2)\n",
            "\u001b[38;5;2m✔ Download and installation successful\u001b[0m\n",
            "You can now load the package via spacy.load('fr_core_news_md')\n",
            "[nltk_data] Downloading package stopwords to\n",
            "[nltk_data]     /Users/luciegabagnou/nltk_data...\n",
            "[nltk_data]   Package stopwords is already up-to-date!\n",
            "[nltk_data] Downloading package punkt to\n",
            "[nltk_data]     /Users/luciegabagnou/nltk_data...\n",
            "[nltk_data]   Package punkt is already up-to-date!\n",
            "[nltk_data] Downloading package wordnet to\n",
            "[nltk_data]     /Users/luciegabagnou/nltk_data...\n",
            "[nltk_data]   Package wordnet is already up-to-date!\n",
            "Collecting fr-core-news-md==3.5.0                                  (0 + 8) / 20]\n",
            "Collecting fr-core-news-md==3.5.0\n",
            "Collecting fr-core-news-md==3.5.0\n",
            "Collecting fr-core-news-md==3.5.0\n",
            "Collecting fr-core-news-md==3.5.0\n",
            "Collecting fr-core-news-md==3.5.0\n",
            "Collecting fr-core-news-md==3.5.0\n",
            "  Using cached https://github.com/explosion/spacy-models/releases/download/fr_core_news_md-3.5.0/fr_core_news_md-3.5.0-py3-none-any.whl (45.8 MB)\n",
            "  Downloading https://github.com/explosion/spacy-models/releases/download/fr_core_news_md-3.5.0/fr_core_news_md-3.5.0-py3-none-any.whl (45.8 MB)\n",
            "  Downloading https://github.com/explosion/spacy-models/releases/download/fr_core_news_md-3.5.0/fr_core_news_md-3.5.0-py3-none-any.whl (45.8 MB)\n",
            "  Downloading https://github.com/explosion/spacy-models/releases/download/fr_core_news_md-3.5.0/fr_core_news_md-3.5.0-py3-none-any.whl (45.8 MB)\n",
            "Requirement already satisfied: spacy<3.6.0,>=3.5.0 in /Users/luciegabagnou/opt/anaconda3/envs/scrap/lib/python3.9/site-packages (from fr-core-news-md==3.5.0) (3.5.0)\n",
            "Requirement already satisfied: typer<0.8.0,>=0.3.0 in /Users/luciegabagnou/opt/anaconda3/envs/scrap/lib/python3.9/site-packages (from spacy<3.6.0,>=3.5.0->fr-core-news-md==3.5.0) (0.7.0)\n",
            "Requirement already satisfied: requests<3.0.0,>=2.13.0 in /Users/luciegabagnou/opt/anaconda3/envs/scrap/lib/python3.9/site-packages (from spacy<3.6.0,>=3.5.0->fr-core-news-md==3.5.0) (2.28.2)\n",
            "Requirement already satisfied: cymem<2.1.0,>=2.0.2 in /Users/luciegabagnou/opt/anaconda3/envs/scrap/lib/python3.9/site-packages (from spacy<3.6.0,>=3.5.0->fr-core-news-md==3.5.0) (2.0.7)\n",
            "Requirement already satisfied: catalogue<2.1.0,>=2.0.6 in /Users/luciegabagnou/opt/anaconda3/envs/scrap/lib/python3.9/site-packages (from spacy<3.6.0,>=3.5.0->fr-core-news-md==3.5.0) (2.0.8)\n",
            "Requirement already satisfied: thinc<8.2.0,>=8.1.0 in /Users/luciegabagnou/opt/anaconda3/envs/scrap/lib/python3.9/site-packages (from spacy<3.6.0,>=3.5.0->fr-core-news-md==3.5.0) (8.1.7)\n",
            "Requirement already satisfied: tqdm<5.0.0,>=4.38.0 in /Users/luciegabagnou/opt/anaconda3/envs/scrap/lib/python3.9/site-packages (from spacy<3.6.0,>=3.5.0->fr-core-news-md==3.5.0) (4.64.1)\n",
            "Requirement already satisfied: langcodes<4.0.0,>=3.2.0 in /Users/luciegabagnou/opt/anaconda3/envs/scrap/lib/python3.9/site-packages (from spacy<3.6.0,>=3.5.0->fr-core-news-md==3.5.0) (3.3.0)\n",
            "Requirement already satisfied: spacy-loggers<2.0.0,>=1.0.0 in /Users/luciegabagnou/opt/anaconda3/envs/scrap/lib/python3.9/site-packages (from spacy<3.6.0,>=3.5.0->fr-core-news-md==3.5.0) (1.0.4)\n",
            "Requirement already satisfied: murmurhash<1.1.0,>=0.28.0 in /Users/luciegabagnou/opt/anaconda3/envs/scrap/lib/python3.9/site-packages (from spacy<3.6.0,>=3.5.0->fr-core-news-md==3.5.0) (1.0.9)\n",
            "Requirement already satisfied: pathy>=0.10.0 in /Users/luciegabagnou/opt/anaconda3/envs/scrap/lib/python3.9/site-packages (from spacy<3.6.0,>=3.5.0->fr-core-news-md==3.5.0) (0.10.1)\n",
            "Requirement already satisfied: packaging>=20.0 in /Users/luciegabagnou/opt/anaconda3/envs/scrap/lib/python3.9/site-packages (from spacy<3.6.0,>=3.5.0->fr-core-news-md==3.5.0) (23.0)\n",
            "Requirement already satisfied: setuptools in /Users/luciegabagnou/opt/anaconda3/envs/scrap/lib/python3.9/site-packages (from spacy<3.6.0,>=3.5.0->fr-core-news-md==3.5.0) (65.6.3)\n",
            "Requirement already satisfied: pydantic!=1.8,!=1.8.1,<1.11.0,>=1.7.4 in /Users/luciegabagnou/opt/anaconda3/envs/scrap/lib/python3.9/site-packages (from spacy<3.6.0,>=3.5.0->fr-core-news-md==3.5.0) (1.10.4)\n",
            "Requirement already satisfied: spacy-legacy<3.1.0,>=3.0.11 in /Users/luciegabagnou/opt/anaconda3/envs/scrap/lib/python3.9/site-packages (from spacy<3.6.0,>=3.5.0->fr-core-news-md==3.5.0) (3.0.12)\n",
            "Requirement already satisfied: preshed<3.1.0,>=3.0.2 in /Users/luciegabagnou/opt/anaconda3/envs/scrap/lib/python3.9/site-packages (from spacy<3.6.0,>=3.5.0->fr-core-news-md==3.5.0) (3.0.8)\n",
            "Requirement already satisfied: wasabi<1.2.0,>=0.9.1 in /Users/luciegabagnou/opt/anaconda3/envs/scrap/lib/python3.9/site-packages (from spacy<3.6.0,>=3.5.0->fr-core-news-md==3.5.0) (1.1.1)\n",
            "Requirement already satisfied: srsly<3.0.0,>=2.4.3 in /Users/luciegabagnou/opt/anaconda3/envs/scrap/lib/python3.9/site-packages (from spacy<3.6.0,>=3.5.0->fr-core-news-md==3.5.0) (2.4.5)\n",
            "Requirement already satisfied: numpy>=1.15.0 in /Users/luciegabagnou/opt/anaconda3/envs/scrap/lib/python3.9/site-packages (from spacy<3.6.0,>=3.5.0->fr-core-news-md==3.5.0) (1.23.5)\n",
            "Requirement already satisfied: smart-open<7.0.0,>=5.2.1 in /Users/luciegabagnou/opt/anaconda3/envs/scrap/lib/python3.9/site-packages (from spacy<3.6.0,>=3.5.0->fr-core-news-md==3.5.0) (6.3.0)\n",
            "Requirement already satisfied: jinja2 in /Users/luciegabagnou/opt/anaconda3/envs/scrap/lib/python3.9/site-packages (from spacy<3.6.0,>=3.5.0->fr-core-news-md==3.5.0) (3.1.2)\n",
            "Requirement already satisfied: typing-extensions>=4.2.0 in /Users/luciegabagnou/opt/anaconda3/envs/scrap/lib/python3.9/site-packages (from pydantic!=1.8,!=1.8.1,<1.11.0,>=1.7.4->spacy<3.6.0,>=3.5.0->fr-core-news-md==3.5.0) (4.4.0)\n",
            "Requirement already satisfied: certifi>=2017.4.17 in /Users/luciegabagnou/opt/anaconda3/envs/scrap/lib/python3.9/site-packages (from requests<3.0.0,>=2.13.0->spacy<3.6.0,>=3.5.0->fr-core-news-md==3.5.0) (2022.12.7)\n",
            "Requirement already satisfied: urllib3<1.27,>=1.21.1 in /Users/luciegabagnou/opt/anaconda3/envs/scrap/lib/python3.9/site-packages (from requests<3.0.0,>=2.13.0->spacy<3.6.0,>=3.5.0->fr-core-news-md==3.5.0) (1.26.14)\n",
            "Requirement already satisfied: idna<4,>=2.5 in /Users/luciegabagnou/opt/anaconda3/envs/scrap/lib/python3.9/site-packages (from requests<3.0.0,>=2.13.0->spacy<3.6.0,>=3.5.0->fr-core-news-md==3.5.0) (3.4)\n",
            "Requirement already satisfied: charset-normalizer<4,>=2 in /Users/luciegabagnou/opt/anaconda3/envs/scrap/lib/python3.9/site-packages (from requests<3.0.0,>=2.13.0->spacy<3.6.0,>=3.5.0->fr-core-news-md==3.5.0) (3.0.1)\n",
            "Requirement already satisfied: blis<0.8.0,>=0.7.8 in /Users/luciegabagnou/opt/anaconda3/envs/scrap/lib/python3.9/site-packages (from thinc<8.2.0,>=8.1.0->spacy<3.6.0,>=3.5.0->fr-core-news-md==3.5.0) (0.7.9)\n",
            "Requirement already satisfied: confection<1.0.0,>=0.0.1 in /Users/luciegabagnou/opt/anaconda3/envs/scrap/lib/python3.9/site-packages (from thinc<8.2.0,>=8.1.0->spacy<3.6.0,>=3.5.0->fr-core-news-md==3.5.0) (0.0.4)\n",
            "Requirement already satisfied: click<9.0.0,>=7.1.1 in /Users/luciegabagnou/opt/anaconda3/envs/scrap/lib/python3.9/site-packages (from typer<0.8.0,>=0.3.0->spacy<3.6.0,>=3.5.0->fr-core-news-md==3.5.0) (8.1.3)\n",
            "Requirement already satisfied: MarkupSafe>=2.0 in /Users/luciegabagnou/opt/anaconda3/envs/scrap/lib/python3.9/site-packages (from jinja2->spacy<3.6.0,>=3.5.0->fr-core-news-md==3.5.0) (2.1.2)\n",
            "  Using cached https://github.com/explosion/spacy-models/releases/download/fr_core_news_md-3.5.0/fr_core_news_md-3.5.0-py3-none-any.whl (45.8 MB)\n",
            "Requirement already satisfied: spacy<3.6.0,>=3.5.0 in /Users/luciegabagnou/opt/anaconda3/envs/scrap/lib/python3.9/site-packages (from fr-core-news-md==3.5.0) (3.5.0)\n",
            "  Using cached https://github.com/explosion/spacy-models/releases/download/fr_core_news_md-3.5.0/fr_core_news_md-3.5.0-py3-none-any.whl (45.8 MB)\n",
            "Requirement already satisfied: spacy-legacy<3.1.0,>=3.0.11 in /Users/luciegabagnou/opt/anaconda3/envs/scrap/lib/python3.9/site-packages (from spacy<3.6.0,>=3.5.0->fr-core-news-md==3.5.0) (3.0.12)\n",
            "Requirement already satisfied: pydantic!=1.8,!=1.8.1,<1.11.0,>=1.7.4 in /Users/luciegabagnou/opt/anaconda3/envs/scrap/lib/python3.9/site-packages (from spacy<3.6.0,>=3.5.0->fr-core-news-md==3.5.0) (1.10.4)\n",
            "Requirement already satisfied: catalogue<2.1.0,>=2.0.6 in /Users/luciegabagnou/opt/anaconda3/envs/scrap/lib/python3.9/site-packages (from spacy<3.6.0,>=3.5.0->fr-core-news-md==3.5.0) (2.0.8)\n",
            "Requirement already satisfied: langcodes<4.0.0,>=3.2.0 in /Users/luciegabagnou/opt/anaconda3/envs/scrap/lib/python3.9/site-packages (from spacy<3.6.0,>=3.5.0->fr-core-news-md==3.5.0) (3.3.0)\n",
            "Requirement already satisfied: numpy>=1.15.0 in /Users/luciegabagnou/opt/anaconda3/envs/scrap/lib/python3.9/site-packages (from spacy<3.6.0,>=3.5.0->fr-core-news-md==3.5.0) (1.23.5)\n",
            "Requirement already satisfied: smart-open<7.0.0,>=5.2.1 in /Users/luciegabagnou/opt/anaconda3/envs/scrap/lib/python3.9/site-packages (from spacy<3.6.0,>=3.5.0->fr-core-news-md==3.5.0) (6.3.0)\n",
            "Requirement already satisfied: pathy>=0.10.0 in /Users/luciegabagnou/opt/anaconda3/envs/scrap/lib/python3.9/site-packages (from spacy<3.6.0,>=3.5.0->fr-core-news-md==3.5.0) (0.10.1)\n",
            "Requirement already satisfied: spacy-loggers<2.0.0,>=1.0.0 in /Users/luciegabagnou/opt/anaconda3/envs/scrap/lib/python3.9/site-packages (from spacy<3.6.0,>=3.5.0->fr-core-news-md==3.5.0) (1.0.4)\n",
            "Requirement already satisfied: cymem<2.1.0,>=2.0.2 in /Users/luciegabagnou/opt/anaconda3/envs/scrap/lib/python3.9/site-packages (from spacy<3.6.0,>=3.5.0->fr-core-news-md==3.5.0) (2.0.7)\n",
            "Requirement already satisfied: jinja2 in /Users/luciegabagnou/opt/anaconda3/envs/scrap/lib/python3.9/site-packages (from spacy<3.6.0,>=3.5.0->fr-core-news-md==3.5.0) (3.1.2)\n",
            "Requirement already satisfied: murmurhash<1.1.0,>=0.28.0 in /Users/luciegabagnou/opt/anaconda3/envs/scrap/lib/python3.9/site-packages (from spacy<3.6.0,>=3.5.0->fr-core-news-md==3.5.0) (1.0.9)\n",
            "Requirement already satisfied: typer<0.8.0,>=0.3.0 in /Users/luciegabagnou/opt/anaconda3/envs/scrap/lib/python3.9/site-packages (from spacy<3.6.0,>=3.5.0->fr-core-news-md==3.5.0) (0.7.0)\n",
            "Requirement already satisfied: packaging>=20.0 in /Users/luciegabagnou/opt/anaconda3/envs/scrap/lib/python3.9/site-packages (from spacy<3.6.0,>=3.5.0->fr-core-news-md==3.5.0) (23.0)\n",
            "Requirement already satisfied: thinc<8.2.0,>=8.1.0 in /Users/luciegabagnou/opt/anaconda3/envs/scrap/lib/python3.9/site-packages (from spacy<3.6.0,>=3.5.0->fr-core-news-md==3.5.0) (8.1.7)\n",
            "Requirement already satisfied: tqdm<5.0.0,>=4.38.0 in /Users/luciegabagnou/opt/anaconda3/envs/scrap/lib/python3.9/site-packages (from spacy<3.6.0,>=3.5.0->fr-core-news-md==3.5.0) (4.64.1)\n",
            "Requirement already satisfied: setuptools in /Users/luciegabagnou/opt/anaconda3/envs/scrap/lib/python3.9/site-packages (from spacy<3.6.0,>=3.5.0->fr-core-news-md==3.5.0) (65.6.3)\n",
            "Requirement already satisfied: wasabi<1.2.0,>=0.9.1 in /Users/luciegabagnou/opt/anaconda3/envs/scrap/lib/python3.9/site-packages (from spacy<3.6.0,>=3.5.0->fr-core-news-md==3.5.0) (1.1.1)\n",
            "Requirement already satisfied: preshed<3.1.0,>=3.0.2 in /Users/luciegabagnou/opt/anaconda3/envs/scrap/lib/python3.9/site-packages (from spacy<3.6.0,>=3.5.0->fr-core-news-md==3.5.0) (3.0.8)\n",
            "Requirement already satisfied: srsly<3.0.0,>=2.4.3 in /Users/luciegabagnou/opt/anaconda3/envs/scrap/lib/python3.9/site-packages (from spacy<3.6.0,>=3.5.0->fr-core-news-md==3.5.0) (2.4.5)\n",
            "Requirement already satisfied: requests<3.0.0,>=2.13.0 in /Users/luciegabagnou/opt/anaconda3/envs/scrap/lib/python3.9/site-packages (from spacy<3.6.0,>=3.5.0->fr-core-news-md==3.5.0) (2.28.2)\n",
            "Requirement already satisfied: typing-extensions>=4.2.0 in /Users/luciegabagnou/opt/anaconda3/envs/scrap/lib/python3.9/site-packages (from pydantic!=1.8,!=1.8.1,<1.11.0,>=1.7.4->spacy<3.6.0,>=3.5.0->fr-core-news-md==3.5.0) (4.4.0)\n",
            "Requirement already satisfied: urllib3<1.27,>=1.21.1 in /Users/luciegabagnou/opt/anaconda3/envs/scrap/lib/python3.9/site-packages (from requests<3.0.0,>=2.13.0->spacy<3.6.0,>=3.5.0->fr-core-news-md==3.5.0) (1.26.14)\n",
            "Requirement already satisfied: idna<4,>=2.5 in /Users/luciegabagnou/opt/anaconda3/envs/scrap/lib/python3.9/site-packages (from requests<3.0.0,>=2.13.0->spacy<3.6.0,>=3.5.0->fr-core-news-md==3.5.0) (3.4)\n",
            "Requirement already satisfied: charset-normalizer<4,>=2 in /Users/luciegabagnou/opt/anaconda3/envs/scrap/lib/python3.9/site-packages (from requests<3.0.0,>=2.13.0->spacy<3.6.0,>=3.5.0->fr-core-news-md==3.5.0) (3.0.1)\n",
            "Requirement already satisfied: certifi>=2017.4.17 in /Users/luciegabagnou/opt/anaconda3/envs/scrap/lib/python3.9/site-packages (from requests<3.0.0,>=2.13.0->spacy<3.6.0,>=3.5.0->fr-core-news-md==3.5.0) (2022.12.7)\n",
            "  Using cached https://github.com/explosion/spacy-models/releases/download/fr_core_news_md-3.5.0/fr_core_news_md-3.5.0-py3-none-any.whl (45.8 MB)\n",
            "Requirement already satisfied: confection<1.0.0,>=0.0.1 in /Users/luciegabagnou/opt/anaconda3/envs/scrap/lib/python3.9/site-packages (from thinc<8.2.0,>=8.1.0->spacy<3.6.0,>=3.5.0->fr-core-news-md==3.5.0) (0.0.4)\n",
            "Requirement already satisfied: blis<0.8.0,>=0.7.8 in /Users/luciegabagnou/opt/anaconda3/envs/scrap/lib/python3.9/site-packages (from thinc<8.2.0,>=8.1.0->spacy<3.6.0,>=3.5.0->fr-core-news-md==3.5.0) (0.7.9)\n",
            "Requirement already satisfied: click<9.0.0,>=7.1.1 in /Users/luciegabagnou/opt/anaconda3/envs/scrap/lib/python3.9/site-packages (from typer<0.8.0,>=0.3.0->spacy<3.6.0,>=3.5.0->fr-core-news-md==3.5.0) (8.1.3)\n",
            "Requirement already satisfied: MarkupSafe>=2.0 in /Users/luciegabagnou/opt/anaconda3/envs/scrap/lib/python3.9/site-packages (from jinja2->spacy<3.6.0,>=3.5.0->fr-core-news-md==3.5.0) (2.1.2)\n",
            "Requirement already satisfied: spacy<3.6.0,>=3.5.0 in /Users/luciegabagnou/opt/anaconda3/envs/scrap/lib/python3.9/site-packages (from fr-core-news-md==3.5.0) (3.5.0)\n",
            "Requirement already satisfied: srsly<3.0.0,>=2.4.3 in /Users/luciegabagnou/opt/anaconda3/envs/scrap/lib/python3.9/site-packages (from spacy<3.6.0,>=3.5.0->fr-core-news-md==3.5.0) (2.4.5)\n",
            "Requirement already satisfied: preshed<3.1.0,>=3.0.2 in /Users/luciegabagnou/opt/anaconda3/envs/scrap/lib/python3.9/site-packages (from spacy<3.6.0,>=3.5.0->fr-core-news-md==3.5.0) (3.0.8)\n",
            "Requirement already satisfied: smart-open<7.0.0,>=5.2.1 in /Users/luciegabagnou/opt/anaconda3/envs/scrap/lib/python3.9/site-packages (from spacy<3.6.0,>=3.5.0->fr-core-news-md==3.5.0) (6.3.0)\n",
            "Requirement already satisfied: langcodes<4.0.0,>=3.2.0 in /Users/luciegabagnou/opt/anaconda3/envs/scrap/lib/python3.9/site-packages (from spacy<3.6.0,>=3.5.0->fr-core-news-md==3.5.0) (3.3.0)\n",
            "Requirement already satisfied: packaging>=20.0 in /Users/luciegabagnou/opt/anaconda3/envs/scrap/lib/python3.9/site-packages (from spacy<3.6.0,>=3.5.0->fr-core-news-md==3.5.0) (23.0)\n",
            "Requirement already satisfied: thinc<8.2.0,>=8.1.0 in /Users/luciegabagnou/opt/anaconda3/envs/scrap/lib/python3.9/site-packages (from spacy<3.6.0,>=3.5.0->fr-core-news-md==3.5.0) (8.1.7)\n",
            "Requirement already satisfied: catalogue<2.1.0,>=2.0.6 in /Users/luciegabagnou/opt/anaconda3/envs/scrap/lib/python3.9/site-packages (from spacy<3.6.0,>=3.5.0->fr-core-news-md==3.5.0) (2.0.8)\n",
            "Requirement already satisfied: numpy>=1.15.0 in /Users/luciegabagnou/opt/anaconda3/envs/scrap/lib/python3.9/site-packages (from spacy<3.6.0,>=3.5.0->fr-core-news-md==3.5.0) (1.23.5)\n",
            "Requirement already satisfied: wasabi<1.2.0,>=0.9.1 in /Users/luciegabagnou/opt/anaconda3/envs/scrap/lib/python3.9/site-packages (from spacy<3.6.0,>=3.5.0->fr-core-news-md==3.5.0) (1.1.1)\n",
            "Requirement already satisfied: setuptools in /Users/luciegabagnou/opt/anaconda3/envs/scrap/lib/python3.9/site-packages (from spacy<3.6.0,>=3.5.0->fr-core-news-md==3.5.0) (65.6.3)\n",
            "Requirement already satisfied: spacy-loggers<2.0.0,>=1.0.0 in /Users/luciegabagnou/opt/anaconda3/envs/scrap/lib/python3.9/site-packages (from spacy<3.6.0,>=3.5.0->fr-core-news-md==3.5.0) (1.0.4)\n",
            "Requirement already satisfied: murmurhash<1.1.0,>=0.28.0 in /Users/luciegabagnou/opt/anaconda3/envs/scrap/lib/python3.9/site-packages (from spacy<3.6.0,>=3.5.0->fr-core-news-md==3.5.0) (1.0.9)\n",
            "Requirement already satisfied: pathy>=0.10.0 in /Users/luciegabagnou/opt/anaconda3/envs/scrap/lib/python3.9/site-packages (from spacy<3.6.0,>=3.5.0->fr-core-news-md==3.5.0) (0.10.1)\n",
            "Requirement already satisfied: jinja2 in /Users/luciegabagnou/opt/anaconda3/envs/scrap/lib/python3.9/site-packages (from spacy<3.6.0,>=3.5.0->fr-core-news-md==3.5.0) (3.1.2)\n",
            "Requirement already satisfied: cymem<2.1.0,>=2.0.2 in /Users/luciegabagnou/opt/anaconda3/envs/scrap/lib/python3.9/site-packages (from spacy<3.6.0,>=3.5.0->fr-core-news-md==3.5.0) (2.0.7)\n",
            "Requirement already satisfied: typer<0.8.0,>=0.3.0 in /Users/luciegabagnou/opt/anaconda3/envs/scrap/lib/python3.9/site-packages (from spacy<3.6.0,>=3.5.0->fr-core-news-md==3.5.0) (0.7.0)\n",
            "Requirement already satisfied: requests<3.0.0,>=2.13.0 in /Users/luciegabagnou/opt/anaconda3/envs/scrap/lib/python3.9/site-packages (from spacy<3.6.0,>=3.5.0->fr-core-news-md==3.5.0) (2.28.2)\n",
            "Requirement already satisfied: spacy-legacy<3.1.0,>=3.0.11 in /Users/luciegabagnou/opt/anaconda3/envs/scrap/lib/python3.9/site-packages (from spacy<3.6.0,>=3.5.0->fr-core-news-md==3.5.0) (3.0.12)\n",
            "Requirement already satisfied: tqdm<5.0.0,>=4.38.0 in /Users/luciegabagnou/opt/anaconda3/envs/scrap/lib/python3.9/site-packages (from spacy<3.6.0,>=3.5.0->fr-core-news-md==3.5.0) (4.64.1)\n",
            "Requirement already satisfied: pydantic!=1.8,!=1.8.1,<1.11.0,>=1.7.4 in /Users/luciegabagnou/opt/anaconda3/envs/scrap/lib/python3.9/site-packages (from spacy<3.6.0,>=3.5.0->fr-core-news-md==3.5.0) (1.10.4)\n",
            "Requirement already satisfied: typing-extensions>=4.2.0 in /Users/luciegabagnou/opt/anaconda3/envs/scrap/lib/python3.9/site-packages (from pydantic!=1.8,!=1.8.1,<1.11.0,>=1.7.4->spacy<3.6.0,>=3.5.0->fr-core-news-md==3.5.0) (4.4.0)\n",
            "Requirement already satisfied: certifi>=2017.4.17 in /Users/luciegabagnou/opt/anaconda3/envs/scrap/lib/python3.9/site-packages (from requests<3.0.0,>=2.13.0->spacy<3.6.0,>=3.5.0->fr-core-news-md==3.5.0) (2022.12.7)\n",
            "Requirement already satisfied: charset-normalizer<4,>=2 in /Users/luciegabagnou/opt/anaconda3/envs/scrap/lib/python3.9/site-packages (from requests<3.0.0,>=2.13.0->spacy<3.6.0,>=3.5.0->fr-core-news-md==3.5.0) (3.0.1)\n",
            "Requirement already satisfied: urllib3<1.27,>=1.21.1 in /Users/luciegabagnou/opt/anaconda3/envs/scrap/lib/python3.9/site-packages (from requests<3.0.0,>=2.13.0->spacy<3.6.0,>=3.5.0->fr-core-news-md==3.5.0) (1.26.14)\n",
            "Requirement already satisfied: idna<4,>=2.5 in /Users/luciegabagnou/opt/anaconda3/envs/scrap/lib/python3.9/site-packages (from requests<3.0.0,>=2.13.0->spacy<3.6.0,>=3.5.0->fr-core-news-md==3.5.0) (3.4)\n",
            "Requirement already satisfied: spacy<3.6.0,>=3.5.0 in /Users/luciegabagnou/opt/anaconda3/envs/scrap/lib/python3.9/site-packages (from fr-core-news-md==3.5.0) (3.5.0)\n",
            "Requirement already satisfied: confection<1.0.0,>=0.0.1 in /Users/luciegabagnou/opt/anaconda3/envs/scrap/lib/python3.9/site-packages (from thinc<8.2.0,>=8.1.0->spacy<3.6.0,>=3.5.0->fr-core-news-md==3.5.0) (0.0.4)\n",
            "Requirement already satisfied: blis<0.8.0,>=0.7.8 in /Users/luciegabagnou/opt/anaconda3/envs/scrap/lib/python3.9/site-packages (from thinc<8.2.0,>=8.1.0->spacy<3.6.0,>=3.5.0->fr-core-news-md==3.5.0) (0.7.9)\n",
            "Requirement already satisfied: click<9.0.0,>=7.1.1 in /Users/luciegabagnou/opt/anaconda3/envs/scrap/lib/python3.9/site-packages (from typer<0.8.0,>=0.3.0->spacy<3.6.0,>=3.5.0->fr-core-news-md==3.5.0) (8.1.3)\n",
            "Requirement already satisfied: setuptools in /Users/luciegabagnou/opt/anaconda3/envs/scrap/lib/python3.9/site-packages (from spacy<3.6.0,>=3.5.0->fr-core-news-md==3.5.0) (65.6.3)\n",
            "Requirement already satisfied: thinc<8.2.0,>=8.1.0 in /Users/luciegabagnou/opt/anaconda3/envs/scrap/lib/python3.9/site-packages (from spacy<3.6.0,>=3.5.0->fr-core-news-md==3.5.0) (8.1.7)\n",
            "Requirement already satisfied: spacy-legacy<3.1.0,>=3.0.11 in /Users/luciegabagnou/opt/anaconda3/envs/scrap/lib/python3.9/site-packages (from spacy<3.6.0,>=3.5.0->fr-core-news-md==3.5.0) (3.0.12)\n",
            "Requirement already satisfied: srsly<3.0.0,>=2.4.3 in /Users/luciegabagnou/opt/anaconda3/envs/scrap/lib/python3.9/site-packages (from spacy<3.6.0,>=3.5.0->fr-core-news-md==3.5.0) (2.4.5)\n",
            "Requirement already satisfied: numpy>=1.15.0 in /Users/luciegabagnou/opt/anaconda3/envs/scrap/lib/python3.9/site-packages (from spacy<3.6.0,>=3.5.0->fr-core-news-md==3.5.0) (1.23.5)\n",
            "Requirement already satisfied: murmurhash<1.1.0,>=0.28.0 in /Users/luciegabagnou/opt/anaconda3/envs/scrap/lib/python3.9/site-packages (from spacy<3.6.0,>=3.5.0->fr-core-news-md==3.5.0) (1.0.9)\n",
            "Requirement already satisfied: pathy>=0.10.0 in /Users/luciegabagnou/opt/anaconda3/envs/scrap/lib/python3.9/site-packages (from spacy<3.6.0,>=3.5.0->fr-core-news-md==3.5.0) (0.10.1)\n",
            "Requirement already satisfied: packaging>=20.0 in /Users/luciegabagnou/opt/anaconda3/envs/scrap/lib/python3.9/site-packages (from spacy<3.6.0,>=3.5.0->fr-core-news-md==3.5.0) (23.0)\n",
            "Requirement already satisfied: jinja2 in /Users/luciegabagnou/opt/anaconda3/envs/scrap/lib/python3.9/site-packages (from spacy<3.6.0,>=3.5.0->fr-core-news-md==3.5.0) (3.1.2)\n",
            "Requirement already satisfied: preshed<3.1.0,>=3.0.2 in /Users/luciegabagnou/opt/anaconda3/envs/scrap/lib/python3.9/site-packages (from spacy<3.6.0,>=3.5.0->fr-core-news-md==3.5.0) (3.0.8)\n",
            "Requirement already satisfied: cymem<2.1.0,>=2.0.2 in /Users/luciegabagnou/opt/anaconda3/envs/scrap/lib/python3.9/site-packages (from spacy<3.6.0,>=3.5.0->fr-core-news-md==3.5.0) (2.0.7)\n",
            "Requirement already satisfied: catalogue<2.1.0,>=2.0.6 in /Users/luciegabagnou/opt/anaconda3/envs/scrap/lib/python3.9/site-packages (from spacy<3.6.0,>=3.5.0->fr-core-news-md==3.5.0) (2.0.8)\n",
            "Requirement already satisfied: pydantic!=1.8,!=1.8.1,<1.11.0,>=1.7.4 in /Users/luciegabagnou/opt/anaconda3/envs/scrap/lib/python3.9/site-packages (from spacy<3.6.0,>=3.5.0->fr-core-news-md==3.5.0) (1.10.4)\n",
            "Requirement already satisfied: MarkupSafe>=2.0 in /Users/luciegabagnou/opt/anaconda3/envs/scrap/lib/python3.9/site-packages (from jinja2->spacy<3.6.0,>=3.5.0->fr-core-news-md==3.5.0) (2.1.2)\n",
            "Requirement already satisfied: tqdm<5.0.0,>=4.38.0 in /Users/luciegabagnou/opt/anaconda3/envs/scrap/lib/python3.9/site-packages (from spacy<3.6.0,>=3.5.0->fr-core-news-md==3.5.0) (4.64.1)\n",
            "Requirement already satisfied: langcodes<4.0.0,>=3.2.0 in /Users/luciegabagnou/opt/anaconda3/envs/scrap/lib/python3.9/site-packages (from spacy<3.6.0,>=3.5.0->fr-core-news-md==3.5.0) (3.3.0)\n",
            "Requirement already satisfied: spacy-loggers<2.0.0,>=1.0.0 in /Users/luciegabagnou/opt/anaconda3/envs/scrap/lib/python3.9/site-packages (from spacy<3.6.0,>=3.5.0->fr-core-news-md==3.5.0) (1.0.4)\n",
            "Requirement already satisfied: wasabi<1.2.0,>=0.9.1 in /Users/luciegabagnou/opt/anaconda3/envs/scrap/lib/python3.9/site-packages (from spacy<3.6.0,>=3.5.0->fr-core-news-md==3.5.0) (1.1.1)\n",
            "Requirement already satisfied: smart-open<7.0.0,>=5.2.1 in /Users/luciegabagnou/opt/anaconda3/envs/scrap/lib/python3.9/site-packages (from spacy<3.6.0,>=3.5.0->fr-core-news-md==3.5.0) (6.3.0)\n",
            "Requirement already satisfied: requests<3.0.0,>=2.13.0 in /Users/luciegabagnou/opt/anaconda3/envs/scrap/lib/python3.9/site-packages (from spacy<3.6.0,>=3.5.0->fr-core-news-md==3.5.0) (2.28.2)\n",
            "Requirement already satisfied: typer<0.8.0,>=0.3.0 in /Users/luciegabagnou/opt/anaconda3/envs/scrap/lib/python3.9/site-packages (from spacy<3.6.0,>=3.5.0->fr-core-news-md==3.5.0) (0.7.0)\n",
            "Requirement already satisfied: typing-extensions>=4.2.0 in /Users/luciegabagnou/opt/anaconda3/envs/scrap/lib/python3.9/site-packages (from pydantic!=1.8,!=1.8.1,<1.11.0,>=1.7.4->spacy<3.6.0,>=3.5.0->fr-core-news-md==3.5.0) (4.4.0)\n",
            "Requirement already satisfied: idna<4,>=2.5 in /Users/luciegabagnou/opt/anaconda3/envs/scrap/lib/python3.9/site-packages (from requests<3.0.0,>=2.13.0->spacy<3.6.0,>=3.5.0->fr-core-news-md==3.5.0) (3.4)\n",
            "Requirement already satisfied: urllib3<1.27,>=1.21.1 in /Users/luciegabagnou/opt/anaconda3/envs/scrap/lib/python3.9/site-packages (from requests<3.0.0,>=2.13.0->spacy<3.6.0,>=3.5.0->fr-core-news-md==3.5.0) (1.26.14)\n",
            "Requirement already satisfied: charset-normalizer<4,>=2 in /Users/luciegabagnou/opt/anaconda3/envs/scrap/lib/python3.9/site-packages (from requests<3.0.0,>=2.13.0->spacy<3.6.0,>=3.5.0->fr-core-news-md==3.5.0) (3.0.1)\n",
            "Requirement already satisfied: certifi>=2017.4.17 in /Users/luciegabagnou/opt/anaconda3/envs/scrap/lib/python3.9/site-packages (from requests<3.0.0,>=2.13.0->spacy<3.6.0,>=3.5.0->fr-core-news-md==3.5.0) (2022.12.7)\n",
            "Requirement already satisfied: confection<1.0.0,>=0.0.1 in /Users/luciegabagnou/opt/anaconda3/envs/scrap/lib/python3.9/site-packages (from thinc<8.2.0,>=8.1.0->spacy<3.6.0,>=3.5.0->fr-core-news-md==3.5.0) (0.0.4)\n",
            "Requirement already satisfied: blis<0.8.0,>=0.7.8 in /Users/luciegabagnou/opt/anaconda3/envs/scrap/lib/python3.9/site-packages (from thinc<8.2.0,>=8.1.0->spacy<3.6.0,>=3.5.0->fr-core-news-md==3.5.0) (0.7.9)\n",
            "\u001b[38;5;2m✔ Download and installation successful\u001b[0m\n",
            "You can now load the package via spacy.load('fr_core_news_md')\n",
            "Requirement already satisfied: click<9.0.0,>=7.1.1 in /Users/luciegabagnou/opt/anaconda3/envs/scrap/lib/python3.9/site-packages (from typer<0.8.0,>=0.3.0->spacy<3.6.0,>=3.5.0->fr-core-news-md==3.5.0) (8.1.3)\n",
            "Requirement already satisfied: MarkupSafe>=2.0 in /Users/luciegabagnou/opt/anaconda3/envs/scrap/lib/python3.9/site-packages (from jinja2->spacy<3.6.0,>=3.5.0->fr-core-news-md==3.5.0) (2.1.2)\n",
            "\u001b[38;5;2m✔ Download and installation successful\u001b[0m\n",
            "You can now load the package via spacy.load('fr_core_news_md')\n",
            "\u001b[38;5;2m✔ Download and installation successful\u001b[0m\n",
            "You can now load the package via spacy.load('fr_core_news_md')\n",
            "\u001b[38;5;2m✔ Download and installation successful\u001b[0m\n",
            "You can now load the package via spacy.load('fr_core_news_md')\n",
            "[nltk_data] Downloading package stopwords to\n",
            "[nltk_data]     /Users/luciegabagnou/nltk_data...\n",
            "[nltk_data]   Package stopwords is already up-to-date!\n",
            "[nltk_data] Downloading package punkt to\n",
            "[nltk_data]     /Users/luciegabagnou/nltk_data...\n",
            "[nltk_data]   Package punkt is already up-to-date!\n",
            "[nltk_data] Downloading package wordnet to\n",
            "[nltk_data]     /Users/luciegabagnou/nltk_data...\n",
            "[nltk_data]   Package wordnet is already up-to-date!\n",
            "[nltk_data] Downloading package stopwords to\n",
            "[nltk_data]     /Users/luciegabagnou/nltk_data...\n",
            "[nltk_data]   Package stopwords is already up-to-date!\n",
            "[nltk_data] Downloading package punkt to\n",
            "[nltk_data]     /Users/luciegabagnou/nltk_data...\n",
            "[nltk_data]   Package punkt is already up-to-date!\n",
            "[nltk_data] Downloading package wordnet to\n",
            "[nltk_data]     /Users/luciegabagnou/nltk_data...\n",
            "[nltk_data]   Package wordnet is already up-to-date!\n",
            "[nltk_data] Downloading package stopwords to\n",
            "[nltk_data]     /Users/luciegabagnou/nltk_data...\n",
            "[nltk_data]   Package stopwords is already up-to-date!\n",
            "[nltk_data] Downloading package punkt to\n",
            "[nltk_data]     /Users/luciegabagnou/nltk_data...\n",
            "[nltk_data] Downloading package stopwords to\n",
            "[nltk_data]     /Users/luciegabagnou/nltk_data...\n",
            "[nltk_data]   Package stopwords is already up-to-date!\n",
            "[nltk_data] Downloading package punkt to\n",
            "[nltk_data]     /Users/luciegabagnou/nltk_data...\n",
            "[nltk_data]   Package punkt is already up-to-date!\n",
            "[nltk_data] Downloading package wordnet to\n",
            "[nltk_data]     /Users/luciegabagnou/nltk_data...\n",
            "[nltk_data]   Package wordnet is already up-to-date!\n",
            "[nltk_data]   Package punkt is already up-to-date!\n",
            "[nltk_data] Downloading package wordnet to\n",
            "[nltk_data]     /Users/luciegabagnou/nltk_data...\n",
            "[nltk_data]   Package wordnet is already up-to-date!\n",
            "     ━━━━━━━━━━━━━━━━━━━━━━━━━━━━━━━━━━━━━━━━ 45.8/45.8 MB 1.9 MB/s eta 0:00:00\n",
            "     ━━━━━━━━━━━━━━━━━━━━━━━━━━━━━━━━━━━━━━━━ 45.8/45.8 MB 2.2 MB/s eta 0:00:00\n",
            "Requirement already satisfied: spacy<3.6.0,>=3.5.0 in /Users/luciegabagnou/opt/anaconda3/envs/scrap/lib/python3.9/site-packages (from fr-core-news-md==3.5.0) (3.5.0)\n",
            "Requirement already satisfied: jinja2 in /Users/luciegabagnou/opt/anaconda3/envs/scrap/lib/python3.9/site-packages (from spacy<3.6.0,>=3.5.0->fr-core-news-md==3.5.0) (3.1.2)\n",
            "Requirement already satisfied: typer<0.8.0,>=0.3.0 in /Users/luciegabagnou/opt/anaconda3/envs/scrap/lib/python3.9/site-packages (from spacy<3.6.0,>=3.5.0->fr-core-news-md==3.5.0) (0.7.0)\n",
            "Requirement already satisfied: packaging>=20.0 in /Users/luciegabagnou/opt/anaconda3/envs/scrap/lib/python3.9/site-packages (from spacy<3.6.0,>=3.5.0->fr-core-news-md==3.5.0) (23.0)\n",
            "Requirement already satisfied: cymem<2.1.0,>=2.0.2 in /Users/luciegabagnou/opt/anaconda3/envs/scrap/lib/python3.9/site-packages (from spacy<3.6.0,>=3.5.0->fr-core-news-md==3.5.0) (2.0.7)\n",
            "Requirement already satisfied: catalogue<2.1.0,>=2.0.6 in /Users/luciegabagnou/opt/anaconda3/envs/scrap/lib/python3.9/site-packages (from spacy<3.6.0,>=3.5.0->fr-core-news-md==3.5.0) (2.0.8)\n",
            "Requirement already satisfied: langcodes<4.0.0,>=3.2.0 in /Users/luciegabagnou/opt/anaconda3/envs/scrap/lib/python3.9/site-packages (from spacy<3.6.0,>=3.5.0->fr-core-news-md==3.5.0) (3.3.0)\n",
            "Requirement already satisfied: preshed<3.1.0,>=3.0.2 in /Users/luciegabagnou/opt/anaconda3/envs/scrap/lib/python3.9/site-packages (from spacy<3.6.0,>=3.5.0->fr-core-news-md==3.5.0) (3.0.8)\n",
            "Requirement already satisfied: thinc<8.2.0,>=8.1.0 in /Users/luciegabagnou/opt/anaconda3/envs/scrap/lib/python3.9/site-packages (from spacy<3.6.0,>=3.5.0->fr-core-news-md==3.5.0) (8.1.7)\n",
            "Requirement already satisfied: spacy-loggers<2.0.0,>=1.0.0 in /Users/luciegabagnou/opt/anaconda3/envs/scrap/lib/python3.9/site-packages (from spacy<3.6.0,>=3.5.0->fr-core-news-md==3.5.0) (1.0.4)\n",
            "Requirement already satisfied: wasabi<1.2.0,>=0.9.1 in /Users/luciegabagnou/opt/anaconda3/envs/scrap/lib/python3.9/site-packages (from spacy<3.6.0,>=3.5.0->fr-core-news-md==3.5.0) (1.1.1)\n",
            "Requirement already satisfied: smart-open<7.0.0,>=5.2.1 in /Users/luciegabagnou/opt/anaconda3/envs/scrap/lib/python3.9/site-packages (from spacy<3.6.0,>=3.5.0->fr-core-news-md==3.5.0) (6.3.0)\n",
            "Requirement already satisfied: requests<3.0.0,>=2.13.0 in /Users/luciegabagnou/opt/anaconda3/envs/scrap/lib/python3.9/site-packages (from spacy<3.6.0,>=3.5.0->fr-core-news-md==3.5.0) (2.28.2)\n",
            "Requirement already satisfied: tqdm<5.0.0,>=4.38.0 in /Users/luciegabagnou/opt/anaconda3/envs/scrap/lib/python3.9/site-packages (from spacy<3.6.0,>=3.5.0->fr-core-news-md==3.5.0) (4.64.1)\n",
            "Requirement already satisfied: spacy-legacy<3.1.0,>=3.0.11 in /Users/luciegabagnou/opt/anaconda3/envs/scrap/lib/python3.9/site-packages (from spacy<3.6.0,>=3.5.0->fr-core-news-md==3.5.0) (3.0.12)\n",
            "Requirement already satisfied: pydantic!=1.8,!=1.8.1,<1.11.0,>=1.7.4 in /Users/luciegabagnou/opt/anaconda3/envs/scrap/lib/python3.9/site-packages (from spacy<3.6.0,>=3.5.0->fr-core-news-md==3.5.0) (1.10.4)\n",
            "Requirement already satisfied: setuptools in /Users/luciegabagnou/opt/anaconda3/envs/scrap/lib/python3.9/site-packages (from spacy<3.6.0,>=3.5.0->fr-core-news-md==3.5.0) (65.6.3)\n",
            "Requirement already satisfied: murmurhash<1.1.0,>=0.28.0 in /Users/luciegabagnou/opt/anaconda3/envs/scrap/lib/python3.9/site-packages (from spacy<3.6.0,>=3.5.0->fr-core-news-md==3.5.0) (1.0.9)\n",
            "Requirement already satisfied: srsly<3.0.0,>=2.4.3 in /Users/luciegabagnou/opt/anaconda3/envs/scrap/lib/python3.9/site-packages (from spacy<3.6.0,>=3.5.0->fr-core-news-md==3.5.0) (2.4.5)\n",
            "Requirement already satisfied: numpy>=1.15.0 in /Users/luciegabagnou/opt/anaconda3/envs/scrap/lib/python3.9/site-packages (from spacy<3.6.0,>=3.5.0->fr-core-news-md==3.5.0) (1.23.5)\n",
            "Requirement already satisfied: pathy>=0.10.0 in /Users/luciegabagnou/opt/anaconda3/envs/scrap/lib/python3.9/site-packages (from spacy<3.6.0,>=3.5.0->fr-core-news-md==3.5.0) (0.10.1)\n",
            "Requirement already satisfied: spacy<3.6.0,>=3.5.0 in /Users/luciegabagnou/opt/anaconda3/envs/scrap/lib/python3.9/site-packages (from fr-core-news-md==3.5.0) (3.5.0)\n",
            "Requirement already satisfied: typing-extensions>=4.2.0 in /Users/luciegabagnou/opt/anaconda3/envs/scrap/lib/python3.9/site-packages (from pydantic!=1.8,!=1.8.1,<1.11.0,>=1.7.4->spacy<3.6.0,>=3.5.0->fr-core-news-md==3.5.0) (4.4.0)\n",
            "Requirement already satisfied: charset-normalizer<4,>=2 in /Users/luciegabagnou/opt/anaconda3/envs/scrap/lib/python3.9/site-packages (from requests<3.0.0,>=2.13.0->spacy<3.6.0,>=3.5.0->fr-core-news-md==3.5.0) (3.0.1)\n",
            "Requirement already satisfied: certifi>=2017.4.17 in /Users/luciegabagnou/opt/anaconda3/envs/scrap/lib/python3.9/site-packages (from requests<3.0.0,>=2.13.0->spacy<3.6.0,>=3.5.0->fr-core-news-md==3.5.0) (2022.12.7)\n",
            "Requirement already satisfied: idna<4,>=2.5 in /Users/luciegabagnou/opt/anaconda3/envs/scrap/lib/python3.9/site-packages (from requests<3.0.0,>=2.13.0->spacy<3.6.0,>=3.5.0->fr-core-news-md==3.5.0) (3.4)\n",
            "Requirement already satisfied: urllib3<1.27,>=1.21.1 in /Users/luciegabagnou/opt/anaconda3/envs/scrap/lib/python3.9/site-packages (from requests<3.0.0,>=2.13.0->spacy<3.6.0,>=3.5.0->fr-core-news-md==3.5.0) (1.26.14)\n",
            "Requirement already satisfied: typer<0.8.0,>=0.3.0 in /Users/luciegabagnou/opt/anaconda3/envs/scrap/lib/python3.9/site-packages (from spacy<3.6.0,>=3.5.0->fr-core-news-md==3.5.0) (0.7.0)\n",
            "Requirement already satisfied: tqdm<5.0.0,>=4.38.0 in /Users/luciegabagnou/opt/anaconda3/envs/scrap/lib/python3.9/site-packages (from spacy<3.6.0,>=3.5.0->fr-core-news-md==3.5.0) (4.64.1)\n",
            "Requirement already satisfied: setuptools in /Users/luciegabagnou/opt/anaconda3/envs/scrap/lib/python3.9/site-packages (from spacy<3.6.0,>=3.5.0->fr-core-news-md==3.5.0) (65.6.3)\n",
            "Requirement already satisfied: spacy-legacy<3.1.0,>=3.0.11 in /Users/luciegabagnou/opt/anaconda3/envs/scrap/lib/python3.9/site-packages (from spacy<3.6.0,>=3.5.0->fr-core-news-md==3.5.0) (3.0.12)\n",
            "Requirement already satisfied: wasabi<1.2.0,>=0.9.1 in /Users/luciegabagnou/opt/anaconda3/envs/scrap/lib/python3.9/site-packages (from spacy<3.6.0,>=3.5.0->fr-core-news-md==3.5.0) (1.1.1)\n",
            "Requirement already satisfied: srsly<3.0.0,>=2.4.3 in /Users/luciegabagnou/opt/anaconda3/envs/scrap/lib/python3.9/site-packages (from spacy<3.6.0,>=3.5.0->fr-core-news-md==3.5.0) (2.4.5)\n",
            "Requirement already satisfied: preshed<3.1.0,>=3.0.2 in /Users/luciegabagnou/opt/anaconda3/envs/scrap/lib/python3.9/site-packages (from spacy<3.6.0,>=3.5.0->fr-core-news-md==3.5.0) (3.0.8)\n",
            "Requirement already satisfied: requests<3.0.0,>=2.13.0 in /Users/luciegabagnou/opt/anaconda3/envs/scrap/lib/python3.9/site-packages (from spacy<3.6.0,>=3.5.0->fr-core-news-md==3.5.0) (2.28.2)\n",
            "Requirement already satisfied: pydantic!=1.8,!=1.8.1,<1.11.0,>=1.7.4 in /Users/luciegabagnou/opt/anaconda3/envs/scrap/lib/python3.9/site-packages (from spacy<3.6.0,>=3.5.0->fr-core-news-md==3.5.0) (1.10.4)\n",
            "Requirement already satisfied: catalogue<2.1.0,>=2.0.6 in /Users/luciegabagnou/opt/anaconda3/envs/scrap/lib/python3.9/site-packages (from spacy<3.6.0,>=3.5.0->fr-core-news-md==3.5.0) (2.0.8)\n",
            "Requirement already satisfied: thinc<8.2.0,>=8.1.0 in /Users/luciegabagnou/opt/anaconda3/envs/scrap/lib/python3.9/site-packages (from spacy<3.6.0,>=3.5.0->fr-core-news-md==3.5.0) (8.1.7)\n",
            "Requirement already satisfied: numpy>=1.15.0 in /Users/luciegabagnou/opt/anaconda3/envs/scrap/lib/python3.9/site-packages (from spacy<3.6.0,>=3.5.0->fr-core-news-md==3.5.0) (1.23.5)\n",
            "Requirement already satisfied: langcodes<4.0.0,>=3.2.0 in /Users/luciegabagnou/opt/anaconda3/envs/scrap/lib/python3.9/site-packages (from spacy<3.6.0,>=3.5.0->fr-core-news-md==3.5.0) (3.3.0)\n",
            "Requirement already satisfied: pathy>=0.10.0 in /Users/luciegabagnou/opt/anaconda3/envs/scrap/lib/python3.9/site-packages (from spacy<3.6.0,>=3.5.0->fr-core-news-md==3.5.0) (0.10.1)\n",
            "Requirement already satisfied: cymem<2.1.0,>=2.0.2 in /Users/luciegabagnou/opt/anaconda3/envs/scrap/lib/python3.9/site-packages (from spacy<3.6.0,>=3.5.0->fr-core-news-md==3.5.0) (2.0.7)\n",
            "Requirement already satisfied: spacy-loggers<2.0.0,>=1.0.0 in /Users/luciegabagnou/opt/anaconda3/envs/scrap/lib/python3.9/site-packages (from spacy<3.6.0,>=3.5.0->fr-core-news-md==3.5.0) (1.0.4)\n",
            "Requirement already satisfied: jinja2 in /Users/luciegabagnou/opt/anaconda3/envs/scrap/lib/python3.9/site-packages (from spacy<3.6.0,>=3.5.0->fr-core-news-md==3.5.0) (3.1.2)\n",
            "Requirement already satisfied: murmurhash<1.1.0,>=0.28.0 in /Users/luciegabagnou/opt/anaconda3/envs/scrap/lib/python3.9/site-packages (from spacy<3.6.0,>=3.5.0->fr-core-news-md==3.5.0) (1.0.9)\n",
            "Requirement already satisfied: smart-open<7.0.0,>=5.2.1 in /Users/luciegabagnou/opt/anaconda3/envs/scrap/lib/python3.9/site-packages (from spacy<3.6.0,>=3.5.0->fr-core-news-md==3.5.0) (6.3.0)\n",
            "Requirement already satisfied: packaging>=20.0 in /Users/luciegabagnou/opt/anaconda3/envs/scrap/lib/python3.9/site-packages (from spacy<3.6.0,>=3.5.0->fr-core-news-md==3.5.0) (23.0)\n",
            "Requirement already satisfied: confection<1.0.0,>=0.0.1 in /Users/luciegabagnou/opt/anaconda3/envs/scrap/lib/python3.9/site-packages (from thinc<8.2.0,>=8.1.0->spacy<3.6.0,>=3.5.0->fr-core-news-md==3.5.0) (0.0.4)\n",
            "Requirement already satisfied: blis<0.8.0,>=0.7.8 in /Users/luciegabagnou/opt/anaconda3/envs/scrap/lib/python3.9/site-packages (from thinc<8.2.0,>=8.1.0->spacy<3.6.0,>=3.5.0->fr-core-news-md==3.5.0) (0.7.9)\n",
            "Requirement already satisfied: typing-extensions>=4.2.0 in /Users/luciegabagnou/opt/anaconda3/envs/scrap/lib/python3.9/site-packages (from pydantic!=1.8,!=1.8.1,<1.11.0,>=1.7.4->spacy<3.6.0,>=3.5.0->fr-core-news-md==3.5.0) (4.4.0)\n",
            "Requirement already satisfied: urllib3<1.27,>=1.21.1 in /Users/luciegabagnou/opt/anaconda3/envs/scrap/lib/python3.9/site-packages (from requests<3.0.0,>=2.13.0->spacy<3.6.0,>=3.5.0->fr-core-news-md==3.5.0) (1.26.14)\n",
            "Requirement already satisfied: certifi>=2017.4.17 in /Users/luciegabagnou/opt/anaconda3/envs/scrap/lib/python3.9/site-packages (from requests<3.0.0,>=2.13.0->spacy<3.6.0,>=3.5.0->fr-core-news-md==3.5.0) (2022.12.7)\n",
            "Requirement already satisfied: idna<4,>=2.5 in /Users/luciegabagnou/opt/anaconda3/envs/scrap/lib/python3.9/site-packages (from requests<3.0.0,>=2.13.0->spacy<3.6.0,>=3.5.0->fr-core-news-md==3.5.0) (3.4)\n",
            "Requirement already satisfied: charset-normalizer<4,>=2 in /Users/luciegabagnou/opt/anaconda3/envs/scrap/lib/python3.9/site-packages (from requests<3.0.0,>=2.13.0->spacy<3.6.0,>=3.5.0->fr-core-news-md==3.5.0) (3.0.1)\n",
            "Requirement already satisfied: click<9.0.0,>=7.1.1 in /Users/luciegabagnou/opt/anaconda3/envs/scrap/lib/python3.9/site-packages (from typer<0.8.0,>=0.3.0->spacy<3.6.0,>=3.5.0->fr-core-news-md==3.5.0) (8.1.3)\n",
            "Requirement already satisfied: MarkupSafe>=2.0 in /Users/luciegabagnou/opt/anaconda3/envs/scrap/lib/python3.9/site-packages (from jinja2->spacy<3.6.0,>=3.5.0->fr-core-news-md==3.5.0) (2.1.2)\n",
            "Requirement already satisfied: blis<0.8.0,>=0.7.8 in /Users/luciegabagnou/opt/anaconda3/envs/scrap/lib/python3.9/site-packages (from thinc<8.2.0,>=8.1.0->spacy<3.6.0,>=3.5.0->fr-core-news-md==3.5.0) (0.7.9)\n",
            "Requirement already satisfied: confection<1.0.0,>=0.0.1 in /Users/luciegabagnou/opt/anaconda3/envs/scrap/lib/python3.9/site-packages (from thinc<8.2.0,>=8.1.0->spacy<3.6.0,>=3.5.0->fr-core-news-md==3.5.0) (0.0.4)\n",
            "Requirement already satisfied: click<9.0.0,>=7.1.1 in /Users/luciegabagnou/opt/anaconda3/envs/scrap/lib/python3.9/site-packages (from typer<0.8.0,>=0.3.0->spacy<3.6.0,>=3.5.0->fr-core-news-md==3.5.0) (8.1.3)\n",
            "Requirement already satisfied: MarkupSafe>=2.0 in /Users/luciegabagnou/opt/anaconda3/envs/scrap/lib/python3.9/site-packages (from jinja2->spacy<3.6.0,>=3.5.0->fr-core-news-md==3.5.0) (2.1.2)\n",
            "\u001b[38;5;2m✔ Download and installation successful\u001b[0m\n",
            "You can now load the package via spacy.load('fr_core_news_md')\n",
            "\u001b[38;5;2m✔ Download and installation successful\u001b[0m\n",
            "You can now load the package via spacy.load('fr_core_news_md')\n",
            "[nltk_data] Downloading package stopwords to\n",
            "[nltk_data]     /Users/luciegabagnou/nltk_data...\n",
            "[nltk_data]   Package stopwords is already up-to-date!\n",
            "[nltk_data] Downloading package punkt to\n",
            "[nltk_data]     /Users/luciegabagnou/nltk_data...\n",
            "[nltk_data] Downloading package stopwords to\n",
            "[nltk_data]     /Users/luciegabagnou/nltk_data...\n",
            "[nltk_data]   Package stopwords is already up-to-date!\n",
            "[nltk_data] Downloading package punkt to\n",
            "[nltk_data]     /Users/luciegabagnou/nltk_data...\n",
            "[nltk_data]   Package punkt is already up-to-date!\n",
            "[nltk_data] Downloading package wordnet to\n",
            "[nltk_data]     /Users/luciegabagnou/nltk_data...\n",
            "[nltk_data]   Package punkt is already up-to-date!\n",
            "[nltk_data] Downloading package wordnet to\n",
            "[nltk_data]     /Users/luciegabagnou/nltk_data...\n",
            "     ━━━━━━━━━━━━━━━━━━━━━━━━━━━━━━━━━━━━━━━ 45.8/45.8 MB 402.4 kB/s eta 0:00:00\n",
            "[nltk_data]   Package wordnet is already up-to-date!\n",
            "[nltk_data]   Package wordnet is already up-to-date!\n",
            "Requirement already satisfied: spacy<3.6.0,>=3.5.0 in /Users/luciegabagnou/opt/anaconda3/envs/scrap/lib/python3.9/site-packages (from fr-core-news-md==3.5.0) (3.5.0)\n",
            "Requirement already satisfied: spacy-loggers<2.0.0,>=1.0.0 in /Users/luciegabagnou/opt/anaconda3/envs/scrap/lib/python3.9/site-packages (from spacy<3.6.0,>=3.5.0->fr-core-news-md==3.5.0) (1.0.4)\n",
            "Requirement already satisfied: pydantic!=1.8,!=1.8.1,<1.11.0,>=1.7.4 in /Users/luciegabagnou/opt/anaconda3/envs/scrap/lib/python3.9/site-packages (from spacy<3.6.0,>=3.5.0->fr-core-news-md==3.5.0) (1.10.4)\n",
            "Requirement already satisfied: catalogue<2.1.0,>=2.0.6 in /Users/luciegabagnou/opt/anaconda3/envs/scrap/lib/python3.9/site-packages (from spacy<3.6.0,>=3.5.0->fr-core-news-md==3.5.0) (2.0.8)\n",
            "Requirement already satisfied: numpy>=1.15.0 in /Users/luciegabagnou/opt/anaconda3/envs/scrap/lib/python3.9/site-packages (from spacy<3.6.0,>=3.5.0->fr-core-news-md==3.5.0) (1.23.5)\n",
            "Requirement already satisfied: langcodes<4.0.0,>=3.2.0 in /Users/luciegabagnou/opt/anaconda3/envs/scrap/lib/python3.9/site-packages (from spacy<3.6.0,>=3.5.0->fr-core-news-md==3.5.0) (3.3.0)\n",
            "Requirement already satisfied: murmurhash<1.1.0,>=0.28.0 in /Users/luciegabagnou/opt/anaconda3/envs/scrap/lib/python3.9/site-packages (from spacy<3.6.0,>=3.5.0->fr-core-news-md==3.5.0) (1.0.9)\n",
            "Requirement already satisfied: smart-open<7.0.0,>=5.2.1 in /Users/luciegabagnou/opt/anaconda3/envs/scrap/lib/python3.9/site-packages (from spacy<3.6.0,>=3.5.0->fr-core-news-md==3.5.0) (6.3.0)\n",
            "Requirement already satisfied: pathy>=0.10.0 in /Users/luciegabagnou/opt/anaconda3/envs/scrap/lib/python3.9/site-packages (from spacy<3.6.0,>=3.5.0->fr-core-news-md==3.5.0) (0.10.1)\n",
            "Requirement already satisfied: jinja2 in /Users/luciegabagnou/opt/anaconda3/envs/scrap/lib/python3.9/site-packages (from spacy<3.6.0,>=3.5.0->fr-core-news-md==3.5.0) (3.1.2)\n",
            "Requirement already satisfied: packaging>=20.0 in /Users/luciegabagnou/opt/anaconda3/envs/scrap/lib/python3.9/site-packages (from spacy<3.6.0,>=3.5.0->fr-core-news-md==3.5.0) (23.0)\n",
            "Requirement already satisfied: cymem<2.1.0,>=2.0.2 in /Users/luciegabagnou/opt/anaconda3/envs/scrap/lib/python3.9/site-packages (from spacy<3.6.0,>=3.5.0->fr-core-news-md==3.5.0) (2.0.7)\n",
            "Requirement already satisfied: tqdm<5.0.0,>=4.38.0 in /Users/luciegabagnou/opt/anaconda3/envs/scrap/lib/python3.9/site-packages (from spacy<3.6.0,>=3.5.0->fr-core-news-md==3.5.0) (4.64.1)\n",
            "Requirement already satisfied: setuptools in /Users/luciegabagnou/opt/anaconda3/envs/scrap/lib/python3.9/site-packages (from spacy<3.6.0,>=3.5.0->fr-core-news-md==3.5.0) (65.6.3)\n",
            "Requirement already satisfied: spacy-legacy<3.1.0,>=3.0.11 in /Users/luciegabagnou/opt/anaconda3/envs/scrap/lib/python3.9/site-packages (from spacy<3.6.0,>=3.5.0->fr-core-news-md==3.5.0) (3.0.12)\n",
            "Requirement already satisfied: wasabi<1.2.0,>=0.9.1 in /Users/luciegabagnou/opt/anaconda3/envs/scrap/lib/python3.9/site-packages (from spacy<3.6.0,>=3.5.0->fr-core-news-md==3.5.0) (1.1.1)\n",
            "Requirement already satisfied: preshed<3.1.0,>=3.0.2 in /Users/luciegabagnou/opt/anaconda3/envs/scrap/lib/python3.9/site-packages (from spacy<3.6.0,>=3.5.0->fr-core-news-md==3.5.0) (3.0.8)\n",
            "Requirement already satisfied: requests<3.0.0,>=2.13.0 in /Users/luciegabagnou/opt/anaconda3/envs/scrap/lib/python3.9/site-packages (from spacy<3.6.0,>=3.5.0->fr-core-news-md==3.5.0) (2.28.2)\n",
            "Requirement already satisfied: typer<0.8.0,>=0.3.0 in /Users/luciegabagnou/opt/anaconda3/envs/scrap/lib/python3.9/site-packages (from spacy<3.6.0,>=3.5.0->fr-core-news-md==3.5.0) (0.7.0)\n",
            "Requirement already satisfied: thinc<8.2.0,>=8.1.0 in /Users/luciegabagnou/opt/anaconda3/envs/scrap/lib/python3.9/site-packages (from spacy<3.6.0,>=3.5.0->fr-core-news-md==3.5.0) (8.1.7)\n",
            "Requirement already satisfied: srsly<3.0.0,>=2.4.3 in /Users/luciegabagnou/opt/anaconda3/envs/scrap/lib/python3.9/site-packages (from spacy<3.6.0,>=3.5.0->fr-core-news-md==3.5.0) (2.4.5)\n",
            "Requirement already satisfied: typing-extensions>=4.2.0 in /Users/luciegabagnou/opt/anaconda3/envs/scrap/lib/python3.9/site-packages (from pydantic!=1.8,!=1.8.1,<1.11.0,>=1.7.4->spacy<3.6.0,>=3.5.0->fr-core-news-md==3.5.0) (4.4.0)\n",
            "Requirement already satisfied: charset-normalizer<4,>=2 in /Users/luciegabagnou/opt/anaconda3/envs/scrap/lib/python3.9/site-packages (from requests<3.0.0,>=2.13.0->spacy<3.6.0,>=3.5.0->fr-core-news-md==3.5.0) (3.0.1)\n",
            "Requirement already satisfied: urllib3<1.27,>=1.21.1 in /Users/luciegabagnou/opt/anaconda3/envs/scrap/lib/python3.9/site-packages (from requests<3.0.0,>=2.13.0->spacy<3.6.0,>=3.5.0->fr-core-news-md==3.5.0) (1.26.14)\n",
            "Requirement already satisfied: idna<4,>=2.5 in /Users/luciegabagnou/opt/anaconda3/envs/scrap/lib/python3.9/site-packages (from requests<3.0.0,>=2.13.0->spacy<3.6.0,>=3.5.0->fr-core-news-md==3.5.0) (3.4)\n",
            "Requirement already satisfied: certifi>=2017.4.17 in /Users/luciegabagnou/opt/anaconda3/envs/scrap/lib/python3.9/site-packages (from requests<3.0.0,>=2.13.0->spacy<3.6.0,>=3.5.0->fr-core-news-md==3.5.0) (2022.12.7)\n",
            "Requirement already satisfied: blis<0.8.0,>=0.7.8 in /Users/luciegabagnou/opt/anaconda3/envs/scrap/lib/python3.9/site-packages (from thinc<8.2.0,>=8.1.0->spacy<3.6.0,>=3.5.0->fr-core-news-md==3.5.0) (0.7.9)\n",
            "Requirement already satisfied: confection<1.0.0,>=0.0.1 in /Users/luciegabagnou/opt/anaconda3/envs/scrap/lib/python3.9/site-packages (from thinc<8.2.0,>=8.1.0->spacy<3.6.0,>=3.5.0->fr-core-news-md==3.5.0) (0.0.4)\n",
            "Requirement already satisfied: click<9.0.0,>=7.1.1 in /Users/luciegabagnou/opt/anaconda3/envs/scrap/lib/python3.9/site-packages (from typer<0.8.0,>=0.3.0->spacy<3.6.0,>=3.5.0->fr-core-news-md==3.5.0) (8.1.3)\n",
            "Requirement already satisfied: MarkupSafe>=2.0 in /Users/luciegabagnou/opt/anaconda3/envs/scrap/lib/python3.9/site-packages (from jinja2->spacy<3.6.0,>=3.5.0->fr-core-news-md==3.5.0) (2.1.2)\n",
            "\u001b[38;5;2m✔ Download and installation successful\u001b[0m\n",
            "You can now load the package via spacy.load('fr_core_news_md')\n",
            "[nltk_data] Downloading package stopwords to\n",
            "[nltk_data]     /Users/luciegabagnou/nltk_data...\n",
            "[nltk_data]   Package stopwords is already up-to-date!\n",
            "[nltk_data] Downloading package punkt to\n",
            "[nltk_data]     /Users/luciegabagnou/nltk_data...\n",
            "[nltk_data]   Package punkt is already up-to-date!\n",
            "[nltk_data] Downloading package wordnet to\n",
            "[nltk_data]     /Users/luciegabagnou/nltk_data...\n",
            "[nltk_data]   Package wordnet is already up-to-date!\n",
            "[Stage 11:====================================>                   (13 + 7) / 20]\r"
          ]
        }
      ],
      "source": [
        "clean_data=df.toPandas() # Environ 10 min"
      ]
    },
    {
      "cell_type": "code",
      "execution_count": null,
      "metadata": {},
      "outputs": [
        {
          "data": {
            "text/html": [
              "<div>\n",
              "<style scoped>\n",
              "    .dataframe tbody tr th:only-of-type {\n",
              "        vertical-align: middle;\n",
              "    }\n",
              "\n",
              "    .dataframe tbody tr th {\n",
              "        vertical-align: top;\n",
              "    }\n",
              "\n",
              "    .dataframe thead th {\n",
              "        text-align: right;\n",
              "    }\n",
              "</style>\n",
              "<table border=\"1\" class=\"dataframe\">\n",
              "  <thead>\n",
              "    <tr style=\"text-align: right;\">\n",
              "      <th></th>\n",
              "      <th>average_note</th>\n",
              "      <th>location</th>\n",
              "      <th>name</th>\n",
              "      <th>number_reviews</th>\n",
              "      <th>ranking</th>\n",
              "      <th>reviews</th>\n",
              "      <th>url</th>\n",
              "      <th>price</th>\n",
              "      <th>cuisine</th>\n",
              "      <th>longitude</th>\n",
              "      <th>latitude</th>\n",
              "      <th>clean_reviews</th>\n",
              "      <th>ratings</th>\n",
              "    </tr>\n",
              "  </thead>\n",
              "  <tbody>\n",
              "    <tr>\n",
              "      <th>0</th>\n",
              "      <td>NaN</td>\n",
              "      <td>225 boulevard Voltaire, 75011 Paris France</td>\n",
              "      <td>Shinzzo Paris 75011</td>\n",
              "      <td>0.0</td>\n",
              "      <td>NaN</td>\n",
              "      <td>[]</td>\n",
              "      <td>https://www.tripadvisor.fr/Restaurant_Review-g...</td>\n",
              "      <td>[]</td>\n",
              "      <td>[Chinoise, Japonaise, Asiatique]</td>\n",
              "      <td>2.390974</td>\n",
              "      <td>48.851526</td>\n",
              "      <td>[]</td>\n",
              "      <td>[]</td>\n",
              "    </tr>\n",
              "    <tr>\n",
              "      <th>1</th>\n",
              "      <td>3.0</td>\n",
              "      <td>33 Rue Saint Jacques, 75005 Paris France</td>\n",
              "      <td>Soho Trattoria</td>\n",
              "      <td>76.0</td>\n",
              "      <td>1430.0</td>\n",
              "      <td>[Bravo Maria Meilleur service:Dîner très agréa...</td>\n",
              "      <td>https://www.tripadvisor.fr/Restaurant_Review-g...</td>\n",
              "      <td>[]</td>\n",
              "      <td>[Italienne, Pizza]</td>\n",
              "      <td>2.345867</td>\n",
              "      <td>48.851156</td>\n",
              "      <td>[[bravo marier meilleur service diner agreabl ...</td>\n",
              "      <td>[[5.0], [2.0], [3.0], [3.0], [5.0], [1.0], [4....</td>\n",
              "    </tr>\n",
              "    <tr>\n",
              "      <th>2</th>\n",
              "      <td>4.0</td>\n",
              "      <td>16 rue Guillaume Bertrand, 75011 Paris France</td>\n",
              "      <td>Restaurant El Camino</td>\n",
              "      <td>41.0</td>\n",
              "      <td>74.0</td>\n",
              "      <td>[Restaurant correct mais sans plus :Un restaur...</td>\n",
              "      <td>https://www.tripadvisor.fr/Restaurant_Review-g...</td>\n",
              "      <td>[€]</td>\n",
              "      <td>[Latino, Sud-américaine]</td>\n",
              "      <td>2.380629</td>\n",
              "      <td>48.863593</td>\n",
              "      <td>[[restaurer correct restaurant chilien correct...</td>\n",
              "      <td>[[3.0], [5.0], [5.0], [4.0], [5.0], [2.0], [5....</td>\n",
              "    </tr>\n",
              "    <tr>\n",
              "      <th>3</th>\n",
              "      <td>4.5</td>\n",
              "      <td>44 rue des Vinaigriers, 75010 Paris France</td>\n",
              "      <td>Gravity Bar</td>\n",
              "      <td>143.0</td>\n",
              "      <td>2258.0</td>\n",
              "      <td>[Superbe adresse 🔥:L'expérience était vraiment...</td>\n",
              "      <td>https://www.tripadvisor.fr/Restaurant_Review-g...</td>\n",
              "      <td>[€€-€€€]</td>\n",
              "      <td>[Végétariens bienvenus, Plats sans gluten]</td>\n",
              "      <td>2.360821</td>\n",
              "      <td>48.873218</td>\n",
              "      <td>[[superbe adresse experience vraiment top equi...</td>\n",
              "      <td>[[5.0], [5.0], [5.0], [5.0], [5.0], [5.0], [4....</td>\n",
              "    </tr>\n",
              "    <tr>\n",
              "      <th>4</th>\n",
              "      <td>4.5</td>\n",
              "      <td>5 rue du Nil, 75002 Paris France</td>\n",
              "      <td>Frenchie - Rue du Nil</td>\n",
              "      <td>1342.0</td>\n",
              "      <td>551.0</td>\n",
              "      <td>[Pas mal, sans plus.:Des associations de saveu...</td>\n",
              "      <td>https://www.tripadvisor.fr/Restaurant_Review-g...</td>\n",
              "      <td>[€€€€]</td>\n",
              "      <td>[Française, Végétariens bienvenus, Plats sans ...</td>\n",
              "      <td>2.347922</td>\n",
              "      <td>48.867744</td>\n",
              "      <td>[[mal plus.:de association saveur original reu...</td>\n",
              "      <td>[[3.0], [4.0], [5.0], [4.0], [1.0], [3.0], [5....</td>\n",
              "    </tr>\n",
              "    <tr>\n",
              "      <th>...</th>\n",
              "      <td>...</td>\n",
              "      <td>...</td>\n",
              "      <td>...</td>\n",
              "      <td>...</td>\n",
              "      <td>...</td>\n",
              "      <td>...</td>\n",
              "      <td>...</td>\n",
              "      <td>...</td>\n",
              "      <td>...</td>\n",
              "      <td>...</td>\n",
              "      <td>...</td>\n",
              "      <td>...</td>\n",
              "      <td>...</td>\n",
              "    </tr>\n",
              "    <tr>\n",
              "      <th>995</th>\n",
              "      <td>3.5</td>\n",
              "      <td>7 Rue Boulle, 75011 Paris France</td>\n",
              "      <td>L'Échappée Belle</td>\n",
              "      <td>148.0</td>\n",
              "      <td>182.0</td>\n",
              "      <td>[Un service qui se plante et donne comme excus...</td>\n",
              "      <td>https://www.tripadvisor.fr/Restaurant_Review-g...</td>\n",
              "      <td>[€€-€€€]</td>\n",
              "      <td>[Française, Européenne, Moderne]</td>\n",
              "      <td>2.372001</td>\n",
              "      <td>48.857000</td>\n",
              "      <td>[[service plante donne excus ordinateur plat p...</td>\n",
              "      <td>[[3.0], [1.0], [5.0], [4.0], [1.0], [5.0], [5....</td>\n",
              "    </tr>\n",
              "    <tr>\n",
              "      <th>996</th>\n",
              "      <td>5.0</td>\n",
              "      <td>31 rue Saint-Lazare, 75009 Paris France</td>\n",
              "      <td>Mizupoke</td>\n",
              "      <td>1.0</td>\n",
              "      <td>12244.0</td>\n",
              "      <td>[Un excellent petit restaurant pour manger des...</td>\n",
              "      <td>https://www.tripadvisor.fr/Restaurant_Review-g...</td>\n",
              "      <td>[]</td>\n",
              "      <td>[]</td>\n",
              "      <td>2.336122</td>\n",
              "      <td>48.876699</td>\n",
              "      <td>[[excellent petit restaurer manger poke emport...</td>\n",
              "      <td>[[5.0]]</td>\n",
              "    </tr>\n",
              "    <tr>\n",
              "      <th>997</th>\n",
              "      <td>4.0</td>\n",
              "      <td>156 boulevard Voltaire, 75011 Paris France</td>\n",
              "      <td>PHO 156</td>\n",
              "      <td>86.0</td>\n",
              "      <td>200.0</td>\n",
              "      <td>[Excellent:Au détour d'une rue  nous avons déc...</td>\n",
              "      <td>https://www.tripadvisor.fr/Restaurant_Review-g...</td>\n",
              "      <td>[€]</td>\n",
              "      <td>[Asiatique, Vietnamienne, Végétariens bienvenus]</td>\n",
              "      <td>2.382831</td>\n",
              "      <td>48.856004</td>\n",
              "      <td>[[excellent detour rue decouvert restaurer cui...</td>\n",
              "      <td>[[5.0], [5.0], [1.0], [5.0], [5.0], [5.0], [2....</td>\n",
              "    </tr>\n",
              "    <tr>\n",
              "      <th>998</th>\n",
              "      <td>NaN</td>\n",
              "      <td>Rue Gervex, Paris France</td>\n",
              "      <td>Le Riad</td>\n",
              "      <td>0.0</td>\n",
              "      <td>NaN</td>\n",
              "      <td>[]</td>\n",
              "      <td>https://www.tripadvisor.fr/Restaurant_Review-g...</td>\n",
              "      <td>[]</td>\n",
              "      <td>[Marocaine, Méditerranéenne]</td>\n",
              "      <td>2.298243</td>\n",
              "      <td>48.888137</td>\n",
              "      <td>[]</td>\n",
              "      <td>[]</td>\n",
              "    </tr>\n",
              "    <tr>\n",
              "      <th>999</th>\n",
              "      <td>NaN</td>\n",
              "      <td>11 rue de la Présentation, 75011 Paris France</td>\n",
              "      <td>Elonie</td>\n",
              "      <td>0.0</td>\n",
              "      <td>NaN</td>\n",
              "      <td>[]</td>\n",
              "      <td>https://www.tripadvisor.fr/Restaurant_Review-g...</td>\n",
              "      <td>[]</td>\n",
              "      <td>[]</td>\n",
              "      <td>2.376445</td>\n",
              "      <td>48.871211</td>\n",
              "      <td>[]</td>\n",
              "      <td>[]</td>\n",
              "    </tr>\n",
              "  </tbody>\n",
              "</table>\n",
              "<p>1000 rows × 13 columns</p>\n",
              "</div>"
            ],
            "text/plain": [
              "     average_note                                       location  \\\n",
              "0             NaN     225 boulevard Voltaire, 75011 Paris France   \n",
              "1             3.0       33 Rue Saint Jacques, 75005 Paris France   \n",
              "2             4.0  16 rue Guillaume Bertrand, 75011 Paris France   \n",
              "3             4.5     44 rue des Vinaigriers, 75010 Paris France   \n",
              "4             4.5               5 rue du Nil, 75002 Paris France   \n",
              "..            ...                                            ...   \n",
              "995           3.5               7 Rue Boulle, 75011 Paris France   \n",
              "996           5.0        31 rue Saint-Lazare, 75009 Paris France   \n",
              "997           4.0     156 boulevard Voltaire, 75011 Paris France   \n",
              "998           NaN                       Rue Gervex, Paris France   \n",
              "999           NaN  11 rue de la Présentation, 75011 Paris France   \n",
              "\n",
              "                      name  number_reviews  ranking  \\\n",
              "0      Shinzzo Paris 75011             0.0      NaN   \n",
              "1           Soho Trattoria            76.0   1430.0   \n",
              "2     Restaurant El Camino            41.0     74.0   \n",
              "3              Gravity Bar           143.0   2258.0   \n",
              "4    Frenchie - Rue du Nil          1342.0    551.0   \n",
              "..                     ...             ...      ...   \n",
              "995       L'Échappée Belle           148.0    182.0   \n",
              "996               Mizupoke             1.0  12244.0   \n",
              "997                PHO 156            86.0    200.0   \n",
              "998                Le Riad             0.0      NaN   \n",
              "999                 Elonie             0.0      NaN   \n",
              "\n",
              "                                               reviews  \\\n",
              "0                                                   []   \n",
              "1    [Bravo Maria Meilleur service:Dîner très agréa...   \n",
              "2    [Restaurant correct mais sans plus :Un restaur...   \n",
              "3    [Superbe adresse 🔥:L'expérience était vraiment...   \n",
              "4    [Pas mal, sans plus.:Des associations de saveu...   \n",
              "..                                                 ...   \n",
              "995  [Un service qui se plante et donne comme excus...   \n",
              "996  [Un excellent petit restaurant pour manger des...   \n",
              "997  [Excellent:Au détour d'une rue  nous avons déc...   \n",
              "998                                                 []   \n",
              "999                                                 []   \n",
              "\n",
              "                                                   url     price  \\\n",
              "0    https://www.tripadvisor.fr/Restaurant_Review-g...        []   \n",
              "1    https://www.tripadvisor.fr/Restaurant_Review-g...        []   \n",
              "2    https://www.tripadvisor.fr/Restaurant_Review-g...       [€]   \n",
              "3    https://www.tripadvisor.fr/Restaurant_Review-g...  [€€-€€€]   \n",
              "4    https://www.tripadvisor.fr/Restaurant_Review-g...    [€€€€]   \n",
              "..                                                 ...       ...   \n",
              "995  https://www.tripadvisor.fr/Restaurant_Review-g...  [€€-€€€]   \n",
              "996  https://www.tripadvisor.fr/Restaurant_Review-g...        []   \n",
              "997  https://www.tripadvisor.fr/Restaurant_Review-g...       [€]   \n",
              "998  https://www.tripadvisor.fr/Restaurant_Review-g...        []   \n",
              "999  https://www.tripadvisor.fr/Restaurant_Review-g...        []   \n",
              "\n",
              "                                               cuisine  longitude   latitude  \\\n",
              "0                     [Chinoise, Japonaise, Asiatique]   2.390974  48.851526   \n",
              "1                                   [Italienne, Pizza]   2.345867  48.851156   \n",
              "2                             [Latino, Sud-américaine]   2.380629  48.863593   \n",
              "3           [Végétariens bienvenus, Plats sans gluten]   2.360821  48.873218   \n",
              "4    [Française, Végétariens bienvenus, Plats sans ...   2.347922  48.867744   \n",
              "..                                                 ...        ...        ...   \n",
              "995                   [Française, Européenne, Moderne]   2.372001  48.857000   \n",
              "996                                                 []   2.336122  48.876699   \n",
              "997   [Asiatique, Vietnamienne, Végétariens bienvenus]   2.382831  48.856004   \n",
              "998                       [Marocaine, Méditerranéenne]   2.298243  48.888137   \n",
              "999                                                 []   2.376445  48.871211   \n",
              "\n",
              "                                         clean_reviews  \\\n",
              "0                                                   []   \n",
              "1    [[bravo marier meilleur service diner agreabl ...   \n",
              "2    [[restaurer correct restaurant chilien correct...   \n",
              "3    [[superbe adresse experience vraiment top equi...   \n",
              "4    [[mal plus.:de association saveur original reu...   \n",
              "..                                                 ...   \n",
              "995  [[service plante donne excus ordinateur plat p...   \n",
              "996  [[excellent petit restaurer manger poke emport...   \n",
              "997  [[excellent detour rue decouvert restaurer cui...   \n",
              "998                                                 []   \n",
              "999                                                 []   \n",
              "\n",
              "                                               ratings  \n",
              "0                                                   []  \n",
              "1    [[5.0], [2.0], [3.0], [3.0], [5.0], [1.0], [4....  \n",
              "2    [[3.0], [5.0], [5.0], [4.0], [5.0], [2.0], [5....  \n",
              "3    [[5.0], [5.0], [5.0], [5.0], [5.0], [5.0], [4....  \n",
              "4    [[3.0], [4.0], [5.0], [4.0], [1.0], [3.0], [5....  \n",
              "..                                                 ...  \n",
              "995  [[3.0], [1.0], [5.0], [4.0], [1.0], [5.0], [5....  \n",
              "996                                            [[5.0]]  \n",
              "997  [[5.0], [5.0], [1.0], [5.0], [5.0], [5.0], [2....  \n",
              "998                                                 []  \n",
              "999                                                 []  \n",
              "\n",
              "[1000 rows x 13 columns]"
            ]
          },
          "execution_count": 25,
          "metadata": {},
          "output_type": "execute_result"
        }
      ],
      "source": [
        "clean_data"
      ]
    },
    {
      "cell_type": "code",
      "execution_count": null,
      "metadata": {},
      "outputs": [],
      "source": [
        "clean_data.to_json(\"data/clean_data.json\")"
      ]
    },
    {
      "cell_type": "code",
      "execution_count": null,
      "metadata": {},
      "outputs": [],
      "source": []
    }
  ],
  "metadata": {
    "accelerator": "GPU",
    "colab": {
      "private_outputs": true,
      "provenance": []
    },
    "gpuClass": "standard",
    "kernelspec": {
      "display_name": "Python 3.9.16",
      "language": "python",
      "name": "python3"
    },
    "language_info": {
      "codemirror_mode": {
        "name": "ipython",
        "version": 3
      },
      "file_extension": ".py",
      "mimetype": "text/x-python",
      "name": "python",
      "nbconvert_exporter": "python",
      "pygments_lexer": "ipython3",
      "version": "3.9.16"
    },
    "vscode": {
      "interpreter": {
        "hash": "fa67bb4265ed4c5df64e99bc87edf59977441b3ddeff84fb7176f27802866c47"
      }
    }
  },
  "nbformat": 4,
  "nbformat_minor": 0
}
